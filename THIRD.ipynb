{
  "cells": [
    {
      "cell_type": "markdown",
      "metadata": {
        "id": "s6xnMc9da5SO"
      },
      "source": [
        "#IMPORTING LIBRARIES"
      ]
    },
    {
      "cell_type": "code",
      "execution_count": null,
      "metadata": {
        "id": "L84HMOPNOQo-"
      },
      "outputs": [],
      "source": [
        "import pandas as pd\n",
        "import numpy as np\n",
        "from sklearn.model_selection import train_test_split\n",
        "from sklearn.linear_model import LogisticRegression\n",
        "from sklearn.tree import DecisionTreeClassifier\n",
        "from sklearn.neighbors import KNeighborsClassifier\n",
        "from sklearn.ensemble import GradientBoostingClassifier\n",
        "from sklearn.preprocessing import StandardScaler\n",
        "from sklearn.metrics import accuracy_score, f1_score\n",
        "from sklearn.model_selection import cross_val_score, KFold\n",
        "from sklearn.model_selection import GridSearchCV\n"
      ]
    },
    {
      "cell_type": "markdown",
      "metadata": {
        "id": "tdEz2k-ya80j"
      },
      "source": [
        "- READING CSV FILES"
      ]
    },
    {
      "cell_type": "code",
      "execution_count": null,
      "metadata": {
        "id": "pbOON65G88g5"
      },
      "outputs": [],
      "source": [
        "import pandas as pd\n",
        "dash = pd.read_csv('kijiji.csv')\n",
        "df_1= pd.read_csv('kijiji.csv')\n",
        "df_2 = pd.read_csv('CSDpop.csv')"
      ]
    },
    {
      "cell_type": "code",
      "execution_count": null,
      "metadata": {
        "colab": {
          "base_uri": "https://localhost:8080/"
        },
        "id": "Mio-2FZGBO41",
        "outputId": "709b5dda-1868-4cf1-db16-6e97fb1f624e"
      },
      "outputs": [
        {
          "data": {
            "text/plain": [
              "Index(['CSDUID', 'CSDNAME', 'Latitude', 'Longitude', 'adId', 'Title', 'Type',\n",
              "       'Price', 'Location', 'Bedrooms', 'Bathrooms', 'Hydro', 'Heat', 'Water',\n",
              "       'Size', 'Agreement Type', 'URL', 'Date Posted'],\n",
              "      dtype='object')"
            ]
          },
          "execution_count": 46,
          "metadata": {},
          "output_type": "execute_result"
        }
      ],
      "source": [
        "df_1.columns"
      ]
    },
    {
      "cell_type": "code",
      "execution_count": null,
      "metadata": {
        "id": "qW9Bh8F-BiRG"
      },
      "outputs": [],
      "source": [
        "df_1 = df_1.drop(['CSDNAME','Longitude', 'Location', 'Title','adId','URL','Date Posted'],axis=1)"
      ]
    },
    {
      "cell_type": "code",
      "execution_count": null,
      "metadata": {
        "id": "qgQOEGX1CMlh"
      },
      "outputs": [],
      "source": [
        "df_1['Size'] = pd.to_numeric(df_1['Size'], errors='coerce' )"
      ]
    },
    {
      "cell_type": "markdown",
      "metadata": {
        "id": "kYZ7iC4XbLci"
      },
      "source": [
        "-  This code is setting any \"Size\" values in the DataFrame df_1 that are less than 200 or greater than 7000 to NaN"
      ]
    },
    {
      "cell_type": "code",
      "execution_count": null,
      "metadata": {
        "id": "ZEIVzWv6CUbR"
      },
      "outputs": [],
      "source": [
        "import numpy as np\n",
        "for index, row in df_1.iterrows ():\n",
        "   if row[\"Size\"] < 200 or row[\"Size\"] > 7000:\n",
        "      df_1.at [index, 'Size'] = np. nan"
      ]
    },
    {
      "cell_type": "markdown",
      "metadata": {
        "id": "VRb0vlpVbQpD"
      },
      "source": [
        "- FILLING NULL VALUES WITH MEAN IN SIZE COLUMN."
      ]
    },
    {
      "cell_type": "code",
      "execution_count": null,
      "metadata": {
        "id": "fVYisfCCCbv1"
      },
      "outputs": [],
      "source": [
        "df_1['Size'].fillna(value=df_1.Size.mean(), inplace=True)"
      ]
    },
    {
      "cell_type": "code",
      "execution_count": null,
      "metadata": {
        "id": "FUqgvmVID5Ek"
      },
      "outputs": [],
      "source": [
        "df_1['Price'] = df_1['Price'].str.replace('$','')\n",
        "df_1['Price'] = df_1['Price'].str.replace(',','')\n",
        "df_1['Price'] = pd.to_numeric(df_1['Price'], errors='coerce' )"
      ]
    },
    {
      "cell_type": "code",
      "execution_count": null,
      "metadata": {
        "id": "R1Y0KPoZFRZD"
      },
      "outputs": [],
      "source": [
        "merged_df_1 = df_1.merge(df_2, on ='CSDUID', how= 'left')"
      ]
    },
    {
      "cell_type": "code",
      "execution_count": null,
      "metadata": {
        "colab": {
          "base_uri": "https://localhost:8080/"
        },
        "id": "aRnT9XVPFidu",
        "outputId": "32310130-9d47-4ee3-9511-785c4aafb375"
      },
      "outputs": [
        {
          "data": {
            "text/plain": [
              "Index(['CSDUID', 'Latitude', 'Type', 'Price', 'Bedrooms', 'Bathrooms', 'Hydro',\n",
              "       'Heat', 'Water', 'Size', 'Agreement Type', 'Population'],\n",
              "      dtype='object')"
            ]
          },
          "execution_count": 53,
          "metadata": {},
          "output_type": "execute_result"
        }
      ],
      "source": [
        "merged_df_1.columns"
      ]
    },
    {
      "cell_type": "code",
      "execution_count": null,
      "metadata": {
        "id": "fq_kRwkgF_hd"
      },
      "outputs": [],
      "source": [
        "merged_df_1 = merged_df_1.drop(['CSDUID'],axis=1)"
      ]
    },
    {
      "cell_type": "code",
      "execution_count": null,
      "metadata": {
        "colab": {
          "base_uri": "https://localhost:8080/"
        },
        "id": "nZjt7HKdGdSX",
        "outputId": "64381246-bb24-4a2e-837c-a2aac36851f5"
      },
      "outputs": [
        {
          "data": {
            "text/plain": [
              "Type\n",
              "Apartment         9685\n",
              "House             5526\n",
              "Basement          3689\n",
              "Condo             3419\n",
              "Townhouse         2399\n",
              "Duplex/Triplex    1014\n",
              "Name: count, dtype: int64"
            ]
          },
          "execution_count": 55,
          "metadata": {},
          "output_type": "execute_result"
        }
      ],
      "source": [
        "merged_df_1['Type'].value_counts()"
      ]
    },
    {
      "cell_type": "markdown",
      "metadata": {
        "id": "Uh9ZF8Xnbf4Y"
      },
      "source": [
        "- This code categorizes the prices in the \"Price\" column of merged_df_1 into three categories (\"low\", \"Medium\", \"High\") based on the defined conditions, and stores the result in a new column \"Price_Category\"."
      ]
    },
    {
      "cell_type": "code",
      "execution_count": null,
      "metadata": {
        "id": "yW-nl6Q5PJWm"
      },
      "outputs": [],
      "source": [
        "def priceConvert(p):\n",
        "  if p <= 1400:\n",
        "    return \"low\"\n",
        "  elif p <= 2000 and p >= 1400:\n",
        "    return \"Medium\"\n",
        "  elif p > 2000:\n",
        "    return \"High\"\n",
        "\n",
        "merged_df_1[\"Price_Category\"] = merged_df_1[\"Price\"].apply(priceConvert)"
      ]
    },
    {
      "cell_type": "code",
      "execution_count": null,
      "metadata": {
        "colab": {
          "base_uri": "https://localhost:8080/"
        },
        "id": "4dA9z41bSECi",
        "outputId": "34fdc178-ab33-4839-c663-6186931880d8"
      },
      "outputs": [
        {
          "data": {
            "text/plain": [
              "0    Medium\n",
              "1       low\n",
              "2      High\n",
              "3       low\n",
              "4      High\n",
              "Name: Price_Category, dtype: object"
            ]
          },
          "execution_count": 57,
          "metadata": {},
          "output_type": "execute_result"
        }
      ],
      "source": [
        "merged_df_1['Price_Category'].head()"
      ]
    },
    {
      "cell_type": "code",
      "execution_count": null,
      "metadata": {
        "colab": {
          "base_uri": "https://localhost:8080/",
          "height": 330
        },
        "id": "zHQxkGx2DHFq",
        "outputId": "b409f72d-e9f3-499e-cb95-ac2bb2efb925"
      },
      "outputs": [
        {
          "data": {
            "application/vnd.google.colaboratory.intrinsic+json": {
              "summary": "{\n  \"name\": \"merged_df_1\",\n  \"rows\": 25732,\n  \"fields\": [\n    {\n      \"column\": \"Latitude\",\n      \"properties\": {\n        \"dtype\": \"number\",\n        \"std\": 0.9598206172702032,\n        \"min\": 41.986668,\n        \"max\": 49.7991595,\n        \"num_unique_values\": 17554,\n        \"samples\": [\n          45.44912,\n          43.7931256,\n          43.6682962\n        ],\n        \"semantic_type\": \"\",\n        \"description\": \"\"\n      }\n    },\n    {\n      \"column\": \"Type\",\n      \"properties\": {\n        \"dtype\": \"category\",\n        \"num_unique_values\": 6,\n        \"samples\": [\n          \"Apartment\",\n          \"House\",\n          \"Condo\"\n        ],\n        \"semantic_type\": \"\",\n        \"description\": \"\"\n      }\n    },\n    {\n      \"column\": \"Price\",\n      \"properties\": {\n        \"dtype\": \"number\",\n        \"std\": 766.0188135845583,\n        \"min\": 285.0,\n        \"max\": 8800.0,\n        \"num_unique_values\": 1281,\n        \"samples\": [\n          325.0,\n          2158.0,\n          1119.0\n        ],\n        \"semantic_type\": \"\",\n        \"description\": \"\"\n      }\n    },\n    {\n      \"column\": \"Bedrooms\",\n      \"properties\": {\n        \"dtype\": \"category\",\n        \"num_unique_values\": 10,\n        \"samples\": [\n          \"Bedrooms: 4 + Den\",\n          \"Bedrooms: 3\",\n          \"Bedrooms: 5+\"\n        ],\n        \"semantic_type\": \"\",\n        \"description\": \"\"\n      }\n    },\n    {\n      \"column\": \"Bathrooms\",\n      \"properties\": {\n        \"dtype\": \"category\",\n        \"num_unique_values\": 11,\n        \"samples\": [\n          \"Bathrooms: 3.5\",\n          \"Bathrooms: 1\",\n          \"Bathrooms: 6+\"\n        ],\n        \"semantic_type\": \"\",\n        \"description\": \"\"\n      }\n    },\n    {\n      \"column\": \"Hydro\",\n      \"properties\": {\n        \"dtype\": \"category\",\n        \"num_unique_values\": 2,\n        \"samples\": [\n          \"Y\",\n          \"N\"\n        ],\n        \"semantic_type\": \"\",\n        \"description\": \"\"\n      }\n    },\n    {\n      \"column\": \"Heat\",\n      \"properties\": {\n        \"dtype\": \"category\",\n        \"num_unique_values\": 2,\n        \"samples\": [\n          \"N\",\n          \"Y\"\n        ],\n        \"semantic_type\": \"\",\n        \"description\": \"\"\n      }\n    },\n    {\n      \"column\": \"Water\",\n      \"properties\": {\n        \"dtype\": \"category\",\n        \"num_unique_values\": 2,\n        \"samples\": [\n          \"N\",\n          \"Y\"\n        ],\n        \"semantic_type\": \"\",\n        \"description\": \"\"\n      }\n    },\n    {\n      \"column\": \"Size\",\n      \"properties\": {\n        \"dtype\": \"number\",\n        \"std\": 107.37732833255835,\n        \"min\": 200.0,\n        \"max\": 999.0,\n        \"num_unique_values\": 656,\n        \"samples\": [\n          437.0,\n          905.0\n        ],\n        \"semantic_type\": \"\",\n        \"description\": \"\"\n      }\n    },\n    {\n      \"column\": \"Agreement Type\",\n      \"properties\": {\n        \"dtype\": \"category\",\n        \"num_unique_values\": 3,\n        \"samples\": [\n          \"1 Year\",\n          \"Month-to-month\"\n        ],\n        \"semantic_type\": \"\",\n        \"description\": \"\"\n      }\n    },\n    {\n      \"column\": \"Population\",\n      \"properties\": {\n        \"dtype\": \"number\",\n        \"std\": 1159861,\n        \"min\": 395,\n        \"max\": 3025647,\n        \"num_unique_values\": 265,\n        \"samples\": [\n          9434,\n          41899\n        ],\n        \"semantic_type\": \"\",\n        \"description\": \"\"\n      }\n    },\n    {\n      \"column\": \"Price_Category\",\n      \"properties\": {\n        \"dtype\": \"category\",\n        \"num_unique_values\": 3,\n        \"samples\": [\n          \"Medium\",\n          \"low\"\n        ],\n        \"semantic_type\": \"\",\n        \"description\": \"\"\n      }\n    }\n  ]\n}",
              "type": "dataframe",
              "variable_name": "merged_df_1"
            },
            "text/html": [
              "\n",
              "  <div id=\"df-46fa7de6-19bb-4f4e-a3f4-47371f14c5d7\" class=\"colab-df-container\">\n",
              "    <div>\n",
              "<style scoped>\n",
              "    .dataframe tbody tr th:only-of-type {\n",
              "        vertical-align: middle;\n",
              "    }\n",
              "\n",
              "    .dataframe tbody tr th {\n",
              "        vertical-align: top;\n",
              "    }\n",
              "\n",
              "    .dataframe thead th {\n",
              "        text-align: right;\n",
              "    }\n",
              "</style>\n",
              "<table border=\"1\" class=\"dataframe\">\n",
              "  <thead>\n",
              "    <tr style=\"text-align: right;\">\n",
              "      <th></th>\n",
              "      <th>Latitude</th>\n",
              "      <th>Type</th>\n",
              "      <th>Price</th>\n",
              "      <th>Bedrooms</th>\n",
              "      <th>Bathrooms</th>\n",
              "      <th>Hydro</th>\n",
              "      <th>Heat</th>\n",
              "      <th>Water</th>\n",
              "      <th>Size</th>\n",
              "      <th>Agreement Type</th>\n",
              "      <th>Population</th>\n",
              "      <th>Price_Category</th>\n",
              "    </tr>\n",
              "  </thead>\n",
              "  <tbody>\n",
              "    <tr>\n",
              "      <th>0</th>\n",
              "      <td>45.256161</td>\n",
              "      <td>Apartment</td>\n",
              "      <td>1425.0</td>\n",
              "      <td>Bedrooms: 2</td>\n",
              "      <td>Bathrooms: 1</td>\n",
              "      <td>N</td>\n",
              "      <td>Y</td>\n",
              "      <td>Y</td>\n",
              "      <td>950.000000</td>\n",
              "      <td>1 Year</td>\n",
              "      <td>14211</td>\n",
              "      <td>Medium</td>\n",
              "    </tr>\n",
              "    <tr>\n",
              "      <th>1</th>\n",
              "      <td>45.192003</td>\n",
              "      <td>Apartment</td>\n",
              "      <td>1100.0</td>\n",
              "      <td>Bedrooms: 2</td>\n",
              "      <td>Bathrooms: 1</td>\n",
              "      <td>N</td>\n",
              "      <td>N</td>\n",
              "      <td>Y</td>\n",
              "      <td>780.000000</td>\n",
              "      <td>1 Year</td>\n",
              "      <td>14211</td>\n",
              "      <td>low</td>\n",
              "    </tr>\n",
              "    <tr>\n",
              "      <th>2</th>\n",
              "      <td>45.146672</td>\n",
              "      <td>House</td>\n",
              "      <td>2700.0</td>\n",
              "      <td>Bedrooms: 3</td>\n",
              "      <td>Bathrooms: 2.5</td>\n",
              "      <td>N</td>\n",
              "      <td>Y</td>\n",
              "      <td>Y</td>\n",
              "      <td>693.228433</td>\n",
              "      <td>1 Year</td>\n",
              "      <td>14211</td>\n",
              "      <td>High</td>\n",
              "    </tr>\n",
              "    <tr>\n",
              "      <th>3</th>\n",
              "      <td>45.143726</td>\n",
              "      <td>House</td>\n",
              "      <td>1200.0</td>\n",
              "      <td>Bedrooms: 2</td>\n",
              "      <td>Bathrooms: 1.5</td>\n",
              "      <td>N</td>\n",
              "      <td>N</td>\n",
              "      <td>Y</td>\n",
              "      <td>900.000000</td>\n",
              "      <td>1 Year</td>\n",
              "      <td>14211</td>\n",
              "      <td>low</td>\n",
              "    </tr>\n",
              "    <tr>\n",
              "      <th>4</th>\n",
              "      <td>45.068973</td>\n",
              "      <td>House</td>\n",
              "      <td>4000.0</td>\n",
              "      <td>Bedrooms: 2 + Den</td>\n",
              "      <td>Bathrooms: 3</td>\n",
              "      <td>N</td>\n",
              "      <td>Y</td>\n",
              "      <td>Y</td>\n",
              "      <td>693.228433</td>\n",
              "      <td>1 Year</td>\n",
              "      <td>14211</td>\n",
              "      <td>High</td>\n",
              "    </tr>\n",
              "  </tbody>\n",
              "</table>\n",
              "</div>\n",
              "    <div class=\"colab-df-buttons\">\n",
              "\n",
              "  <div class=\"colab-df-container\">\n",
              "    <button class=\"colab-df-convert\" onclick=\"convertToInteractive('df-46fa7de6-19bb-4f4e-a3f4-47371f14c5d7')\"\n",
              "            title=\"Convert this dataframe to an interactive table.\"\n",
              "            style=\"display:none;\">\n",
              "\n",
              "  <svg xmlns=\"http://www.w3.org/2000/svg\" height=\"24px\" viewBox=\"0 -960 960 960\">\n",
              "    <path d=\"M120-120v-720h720v720H120Zm60-500h600v-160H180v160Zm220 220h160v-160H400v160Zm0 220h160v-160H400v160ZM180-400h160v-160H180v160Zm440 0h160v-160H620v160ZM180-180h160v-160H180v160Zm440 0h160v-160H620v160Z\"/>\n",
              "  </svg>\n",
              "    </button>\n",
              "\n",
              "  <style>\n",
              "    .colab-df-container {\n",
              "      display:flex;\n",
              "      gap: 12px;\n",
              "    }\n",
              "\n",
              "    .colab-df-convert {\n",
              "      background-color: #E8F0FE;\n",
              "      border: none;\n",
              "      border-radius: 50%;\n",
              "      cursor: pointer;\n",
              "      display: none;\n",
              "      fill: #1967D2;\n",
              "      height: 32px;\n",
              "      padding: 0 0 0 0;\n",
              "      width: 32px;\n",
              "    }\n",
              "\n",
              "    .colab-df-convert:hover {\n",
              "      background-color: #E2EBFA;\n",
              "      box-shadow: 0px 1px 2px rgba(60, 64, 67, 0.3), 0px 1px 3px 1px rgba(60, 64, 67, 0.15);\n",
              "      fill: #174EA6;\n",
              "    }\n",
              "\n",
              "    .colab-df-buttons div {\n",
              "      margin-bottom: 4px;\n",
              "    }\n",
              "\n",
              "    [theme=dark] .colab-df-convert {\n",
              "      background-color: #3B4455;\n",
              "      fill: #D2E3FC;\n",
              "    }\n",
              "\n",
              "    [theme=dark] .colab-df-convert:hover {\n",
              "      background-color: #434B5C;\n",
              "      box-shadow: 0px 1px 3px 1px rgba(0, 0, 0, 0.15);\n",
              "      filter: drop-shadow(0px 1px 2px rgba(0, 0, 0, 0.3));\n",
              "      fill: #FFFFFF;\n",
              "    }\n",
              "  </style>\n",
              "\n",
              "    <script>\n",
              "      const buttonEl =\n",
              "        document.querySelector('#df-46fa7de6-19bb-4f4e-a3f4-47371f14c5d7 button.colab-df-convert');\n",
              "      buttonEl.style.display =\n",
              "        google.colab.kernel.accessAllowed ? 'block' : 'none';\n",
              "\n",
              "      async function convertToInteractive(key) {\n",
              "        const element = document.querySelector('#df-46fa7de6-19bb-4f4e-a3f4-47371f14c5d7');\n",
              "        const dataTable =\n",
              "          await google.colab.kernel.invokeFunction('convertToInteractive',\n",
              "                                                    [key], {});\n",
              "        if (!dataTable) return;\n",
              "\n",
              "        const docLinkHtml = 'Like what you see? Visit the ' +\n",
              "          '<a target=\"_blank\" href=https://colab.research.google.com/notebooks/data_table.ipynb>data table notebook</a>'\n",
              "          + ' to learn more about interactive tables.';\n",
              "        element.innerHTML = '';\n",
              "        dataTable['output_type'] = 'display_data';\n",
              "        await google.colab.output.renderOutput(dataTable, element);\n",
              "        const docLink = document.createElement('div');\n",
              "        docLink.innerHTML = docLinkHtml;\n",
              "        element.appendChild(docLink);\n",
              "      }\n",
              "    </script>\n",
              "  </div>\n",
              "\n",
              "\n",
              "<div id=\"df-7ebe539e-d990-4e21-8789-c6140954e7d5\">\n",
              "  <button class=\"colab-df-quickchart\" onclick=\"quickchart('df-7ebe539e-d990-4e21-8789-c6140954e7d5')\"\n",
              "            title=\"Suggest charts\"\n",
              "            style=\"display:none;\">\n",
              "\n",
              "<svg xmlns=\"http://www.w3.org/2000/svg\" height=\"24px\"viewBox=\"0 0 24 24\"\n",
              "     width=\"24px\">\n",
              "    <g>\n",
              "        <path d=\"M19 3H5c-1.1 0-2 .9-2 2v14c0 1.1.9 2 2 2h14c1.1 0 2-.9 2-2V5c0-1.1-.9-2-2-2zM9 17H7v-7h2v7zm4 0h-2V7h2v10zm4 0h-2v-4h2v4z\"/>\n",
              "    </g>\n",
              "</svg>\n",
              "  </button>\n",
              "\n",
              "<style>\n",
              "  .colab-df-quickchart {\n",
              "      --bg-color: #E8F0FE;\n",
              "      --fill-color: #1967D2;\n",
              "      --hover-bg-color: #E2EBFA;\n",
              "      --hover-fill-color: #174EA6;\n",
              "      --disabled-fill-color: #AAA;\n",
              "      --disabled-bg-color: #DDD;\n",
              "  }\n",
              "\n",
              "  [theme=dark] .colab-df-quickchart {\n",
              "      --bg-color: #3B4455;\n",
              "      --fill-color: #D2E3FC;\n",
              "      --hover-bg-color: #434B5C;\n",
              "      --hover-fill-color: #FFFFFF;\n",
              "      --disabled-bg-color: #3B4455;\n",
              "      --disabled-fill-color: #666;\n",
              "  }\n",
              "\n",
              "  .colab-df-quickchart {\n",
              "    background-color: var(--bg-color);\n",
              "    border: none;\n",
              "    border-radius: 50%;\n",
              "    cursor: pointer;\n",
              "    display: none;\n",
              "    fill: var(--fill-color);\n",
              "    height: 32px;\n",
              "    padding: 0;\n",
              "    width: 32px;\n",
              "  }\n",
              "\n",
              "  .colab-df-quickchart:hover {\n",
              "    background-color: var(--hover-bg-color);\n",
              "    box-shadow: 0 1px 2px rgba(60, 64, 67, 0.3), 0 1px 3px 1px rgba(60, 64, 67, 0.15);\n",
              "    fill: var(--button-hover-fill-color);\n",
              "  }\n",
              "\n",
              "  .colab-df-quickchart-complete:disabled,\n",
              "  .colab-df-quickchart-complete:disabled:hover {\n",
              "    background-color: var(--disabled-bg-color);\n",
              "    fill: var(--disabled-fill-color);\n",
              "    box-shadow: none;\n",
              "  }\n",
              "\n",
              "  .colab-df-spinner {\n",
              "    border: 2px solid var(--fill-color);\n",
              "    border-color: transparent;\n",
              "    border-bottom-color: var(--fill-color);\n",
              "    animation:\n",
              "      spin 1s steps(1) infinite;\n",
              "  }\n",
              "\n",
              "  @keyframes spin {\n",
              "    0% {\n",
              "      border-color: transparent;\n",
              "      border-bottom-color: var(--fill-color);\n",
              "      border-left-color: var(--fill-color);\n",
              "    }\n",
              "    20% {\n",
              "      border-color: transparent;\n",
              "      border-left-color: var(--fill-color);\n",
              "      border-top-color: var(--fill-color);\n",
              "    }\n",
              "    30% {\n",
              "      border-color: transparent;\n",
              "      border-left-color: var(--fill-color);\n",
              "      border-top-color: var(--fill-color);\n",
              "      border-right-color: var(--fill-color);\n",
              "    }\n",
              "    40% {\n",
              "      border-color: transparent;\n",
              "      border-right-color: var(--fill-color);\n",
              "      border-top-color: var(--fill-color);\n",
              "    }\n",
              "    60% {\n",
              "      border-color: transparent;\n",
              "      border-right-color: var(--fill-color);\n",
              "    }\n",
              "    80% {\n",
              "      border-color: transparent;\n",
              "      border-right-color: var(--fill-color);\n",
              "      border-bottom-color: var(--fill-color);\n",
              "    }\n",
              "    90% {\n",
              "      border-color: transparent;\n",
              "      border-bottom-color: var(--fill-color);\n",
              "    }\n",
              "  }\n",
              "</style>\n",
              "\n",
              "  <script>\n",
              "    async function quickchart(key) {\n",
              "      const quickchartButtonEl =\n",
              "        document.querySelector('#' + key + ' button');\n",
              "      quickchartButtonEl.disabled = true;  // To prevent multiple clicks.\n",
              "      quickchartButtonEl.classList.add('colab-df-spinner');\n",
              "      try {\n",
              "        const charts = await google.colab.kernel.invokeFunction(\n",
              "            'suggestCharts', [key], {});\n",
              "      } catch (error) {\n",
              "        console.error('Error during call to suggestCharts:', error);\n",
              "      }\n",
              "      quickchartButtonEl.classList.remove('colab-df-spinner');\n",
              "      quickchartButtonEl.classList.add('colab-df-quickchart-complete');\n",
              "    }\n",
              "    (() => {\n",
              "      let quickchartButtonEl =\n",
              "        document.querySelector('#df-7ebe539e-d990-4e21-8789-c6140954e7d5 button');\n",
              "      quickchartButtonEl.style.display =\n",
              "        google.colab.kernel.accessAllowed ? 'block' : 'none';\n",
              "    })();\n",
              "  </script>\n",
              "</div>\n",
              "\n",
              "    </div>\n",
              "  </div>\n"
            ],
            "text/plain": [
              "    Latitude       Type   Price           Bedrooms       Bathrooms Hydro Heat  \\\n",
              "0  45.256161  Apartment  1425.0        Bedrooms: 2    Bathrooms: 1     N    Y   \n",
              "1  45.192003  Apartment  1100.0        Bedrooms: 2    Bathrooms: 1     N    N   \n",
              "2  45.146672      House  2700.0        Bedrooms: 3  Bathrooms: 2.5     N    Y   \n",
              "3  45.143726      House  1200.0        Bedrooms: 2  Bathrooms: 1.5     N    N   \n",
              "4  45.068973      House  4000.0  Bedrooms: 2 + Den    Bathrooms: 3     N    Y   \n",
              "\n",
              "  Water        Size Agreement Type  Population Price_Category  \n",
              "0     Y  950.000000         1 Year       14211         Medium  \n",
              "1     Y  780.000000         1 Year       14211            low  \n",
              "2     Y  693.228433         1 Year       14211           High  \n",
              "3     Y  900.000000         1 Year       14211            low  \n",
              "4     Y  693.228433         1 Year       14211           High  "
            ]
          },
          "execution_count": 58,
          "metadata": {},
          "output_type": "execute_result"
        }
      ],
      "source": [
        "merged_df_1.head()"
      ]
    },
    {
      "cell_type": "code",
      "execution_count": null,
      "metadata": {
        "id": "FXx5QldJGruv"
      },
      "outputs": [],
      "source": [
        "merged_df_1['Type'] = merged_df_1['Type'].astype('category').cat.codes"
      ]
    },
    {
      "cell_type": "markdown",
      "metadata": {
        "id": "wGWO6xDKbr5q"
      },
      "source": [
        "- This process transforms categorical columns into a format that machine learning algorithms can better understand, where each category is represented by a binary (0 or 1) value in its own column."
      ]
    },
    {
      "cell_type": "code",
      "execution_count": null,
      "metadata": {
        "id": "E-K4YlRtG8_-"
      },
      "outputs": [],
      "source": [
        "one_hot_encoded1 = pd.get_dummies(merged_df_1['Type'], prefix='PropType')\n",
        "one_hot_encoded2 = pd.get_dummies(merged_df_1['Bedrooms'], prefix='Bedrooms')\n",
        "one_hot_encoded3 = pd.get_dummies(merged_df_1['Bathrooms'], prefix='Bathrooms')\n",
        "one_hot_encoded4 = pd. get_dummies(merged_df_1['Hydro'], prefix='Hydro')\n",
        "one_hot_encoded5 = pd. get_dummies(merged_df_1['Heat'], prefix='Heat')\n",
        "one_hot_encoded6 = pd. get_dummies(merged_df_1['Water'], prefix='Water')\n",
        "one_hot_encoded7 = pd. get_dummies(merged_df_1['Agreement Type'], prefix='Agreement')\n",
        "\n",
        "\n",
        "#Concatenate the one-hot encoded columns with the original Dataframe\n",
        "df_encoded = pd.concat([merged_df_1, one_hot_encoded1,one_hot_encoded2, one_hot_encoded3, one_hot_encoded4, one_hot_encoded5, one_hot_encoded6,one_hot_encoded7], axis=1)"
      ]
    },
    {
      "cell_type": "code",
      "execution_count": null,
      "metadata": {
        "id": "nWAgCooo5VyU"
      },
      "outputs": [],
      "source": [
        "df_encoded = df_encoded.drop(['Type','Bedrooms','Bathrooms','Hydro','Heat','Water','Agreement Type'], axis=1)"
      ]
    },
    {
      "cell_type": "code",
      "execution_count": null,
      "metadata": {
        "colab": {
          "base_uri": "https://localhost:8080/",
          "height": 273
        },
        "id": "0sJVYSAFHt8d",
        "outputId": "afbb4236-4c2d-4366-c69e-b97126b278e1"
      },
      "outputs": [
        {
          "data": {
            "application/vnd.google.colaboratory.intrinsic+json": {
              "type": "dataframe",
              "variable_name": "df_encoded"
            },
            "text/html": [
              "\n",
              "  <div id=\"df-4427d9e2-32a2-4e35-a541-559a1c37cd0c\" class=\"colab-df-container\">\n",
              "    <div>\n",
              "<style scoped>\n",
              "    .dataframe tbody tr th:only-of-type {\n",
              "        vertical-align: middle;\n",
              "    }\n",
              "\n",
              "    .dataframe tbody tr th {\n",
              "        vertical-align: top;\n",
              "    }\n",
              "\n",
              "    .dataframe thead th {\n",
              "        text-align: right;\n",
              "    }\n",
              "</style>\n",
              "<table border=\"1\" class=\"dataframe\">\n",
              "  <thead>\n",
              "    <tr style=\"text-align: right;\">\n",
              "      <th></th>\n",
              "      <th>Latitude</th>\n",
              "      <th>Price</th>\n",
              "      <th>Size</th>\n",
              "      <th>Population</th>\n",
              "      <th>Price_Category</th>\n",
              "      <th>PropType_0</th>\n",
              "      <th>PropType_1</th>\n",
              "      <th>PropType_2</th>\n",
              "      <th>PropType_3</th>\n",
              "      <th>PropType_4</th>\n",
              "      <th>...</th>\n",
              "      <th>Bathrooms_Bathrooms: 6+</th>\n",
              "      <th>Hydro_N</th>\n",
              "      <th>Hydro_Y</th>\n",
              "      <th>Heat_N</th>\n",
              "      <th>Heat_Y</th>\n",
              "      <th>Water_N</th>\n",
              "      <th>Water_Y</th>\n",
              "      <th>Agreement_1 Year</th>\n",
              "      <th>Agreement_Month-to-month</th>\n",
              "      <th>Agreement_Not Available</th>\n",
              "    </tr>\n",
              "  </thead>\n",
              "  <tbody>\n",
              "    <tr>\n",
              "      <th>0</th>\n",
              "      <td>45.256161</td>\n",
              "      <td>1425.0</td>\n",
              "      <td>950.000000</td>\n",
              "      <td>14211</td>\n",
              "      <td>Medium</td>\n",
              "      <td>True</td>\n",
              "      <td>False</td>\n",
              "      <td>False</td>\n",
              "      <td>False</td>\n",
              "      <td>False</td>\n",
              "      <td>...</td>\n",
              "      <td>False</td>\n",
              "      <td>True</td>\n",
              "      <td>False</td>\n",
              "      <td>False</td>\n",
              "      <td>True</td>\n",
              "      <td>False</td>\n",
              "      <td>True</td>\n",
              "      <td>True</td>\n",
              "      <td>False</td>\n",
              "      <td>False</td>\n",
              "    </tr>\n",
              "    <tr>\n",
              "      <th>1</th>\n",
              "      <td>45.192003</td>\n",
              "      <td>1100.0</td>\n",
              "      <td>780.000000</td>\n",
              "      <td>14211</td>\n",
              "      <td>low</td>\n",
              "      <td>True</td>\n",
              "      <td>False</td>\n",
              "      <td>False</td>\n",
              "      <td>False</td>\n",
              "      <td>False</td>\n",
              "      <td>...</td>\n",
              "      <td>False</td>\n",
              "      <td>True</td>\n",
              "      <td>False</td>\n",
              "      <td>True</td>\n",
              "      <td>False</td>\n",
              "      <td>False</td>\n",
              "      <td>True</td>\n",
              "      <td>True</td>\n",
              "      <td>False</td>\n",
              "      <td>False</td>\n",
              "    </tr>\n",
              "    <tr>\n",
              "      <th>2</th>\n",
              "      <td>45.146672</td>\n",
              "      <td>2700.0</td>\n",
              "      <td>693.228433</td>\n",
              "      <td>14211</td>\n",
              "      <td>High</td>\n",
              "      <td>False</td>\n",
              "      <td>False</td>\n",
              "      <td>False</td>\n",
              "      <td>False</td>\n",
              "      <td>True</td>\n",
              "      <td>...</td>\n",
              "      <td>False</td>\n",
              "      <td>True</td>\n",
              "      <td>False</td>\n",
              "      <td>False</td>\n",
              "      <td>True</td>\n",
              "      <td>False</td>\n",
              "      <td>True</td>\n",
              "      <td>True</td>\n",
              "      <td>False</td>\n",
              "      <td>False</td>\n",
              "    </tr>\n",
              "    <tr>\n",
              "      <th>3</th>\n",
              "      <td>45.143726</td>\n",
              "      <td>1200.0</td>\n",
              "      <td>900.000000</td>\n",
              "      <td>14211</td>\n",
              "      <td>low</td>\n",
              "      <td>False</td>\n",
              "      <td>False</td>\n",
              "      <td>False</td>\n",
              "      <td>False</td>\n",
              "      <td>True</td>\n",
              "      <td>...</td>\n",
              "      <td>False</td>\n",
              "      <td>True</td>\n",
              "      <td>False</td>\n",
              "      <td>True</td>\n",
              "      <td>False</td>\n",
              "      <td>False</td>\n",
              "      <td>True</td>\n",
              "      <td>True</td>\n",
              "      <td>False</td>\n",
              "      <td>False</td>\n",
              "    </tr>\n",
              "    <tr>\n",
              "      <th>4</th>\n",
              "      <td>45.068973</td>\n",
              "      <td>4000.0</td>\n",
              "      <td>693.228433</td>\n",
              "      <td>14211</td>\n",
              "      <td>High</td>\n",
              "      <td>False</td>\n",
              "      <td>False</td>\n",
              "      <td>False</td>\n",
              "      <td>False</td>\n",
              "      <td>True</td>\n",
              "      <td>...</td>\n",
              "      <td>False</td>\n",
              "      <td>True</td>\n",
              "      <td>False</td>\n",
              "      <td>False</td>\n",
              "      <td>True</td>\n",
              "      <td>False</td>\n",
              "      <td>True</td>\n",
              "      <td>True</td>\n",
              "      <td>False</td>\n",
              "      <td>False</td>\n",
              "    </tr>\n",
              "  </tbody>\n",
              "</table>\n",
              "<p>5 rows × 41 columns</p>\n",
              "</div>\n",
              "    <div class=\"colab-df-buttons\">\n",
              "\n",
              "  <div class=\"colab-df-container\">\n",
              "    <button class=\"colab-df-convert\" onclick=\"convertToInteractive('df-4427d9e2-32a2-4e35-a541-559a1c37cd0c')\"\n",
              "            title=\"Convert this dataframe to an interactive table.\"\n",
              "            style=\"display:none;\">\n",
              "\n",
              "  <svg xmlns=\"http://www.w3.org/2000/svg\" height=\"24px\" viewBox=\"0 -960 960 960\">\n",
              "    <path d=\"M120-120v-720h720v720H120Zm60-500h600v-160H180v160Zm220 220h160v-160H400v160Zm0 220h160v-160H400v160ZM180-400h160v-160H180v160Zm440 0h160v-160H620v160ZM180-180h160v-160H180v160Zm440 0h160v-160H620v160Z\"/>\n",
              "  </svg>\n",
              "    </button>\n",
              "\n",
              "  <style>\n",
              "    .colab-df-container {\n",
              "      display:flex;\n",
              "      gap: 12px;\n",
              "    }\n",
              "\n",
              "    .colab-df-convert {\n",
              "      background-color: #E8F0FE;\n",
              "      border: none;\n",
              "      border-radius: 50%;\n",
              "      cursor: pointer;\n",
              "      display: none;\n",
              "      fill: #1967D2;\n",
              "      height: 32px;\n",
              "      padding: 0 0 0 0;\n",
              "      width: 32px;\n",
              "    }\n",
              "\n",
              "    .colab-df-convert:hover {\n",
              "      background-color: #E2EBFA;\n",
              "      box-shadow: 0px 1px 2px rgba(60, 64, 67, 0.3), 0px 1px 3px 1px rgba(60, 64, 67, 0.15);\n",
              "      fill: #174EA6;\n",
              "    }\n",
              "\n",
              "    .colab-df-buttons div {\n",
              "      margin-bottom: 4px;\n",
              "    }\n",
              "\n",
              "    [theme=dark] .colab-df-convert {\n",
              "      background-color: #3B4455;\n",
              "      fill: #D2E3FC;\n",
              "    }\n",
              "\n",
              "    [theme=dark] .colab-df-convert:hover {\n",
              "      background-color: #434B5C;\n",
              "      box-shadow: 0px 1px 3px 1px rgba(0, 0, 0, 0.15);\n",
              "      filter: drop-shadow(0px 1px 2px rgba(0, 0, 0, 0.3));\n",
              "      fill: #FFFFFF;\n",
              "    }\n",
              "  </style>\n",
              "\n",
              "    <script>\n",
              "      const buttonEl =\n",
              "        document.querySelector('#df-4427d9e2-32a2-4e35-a541-559a1c37cd0c button.colab-df-convert');\n",
              "      buttonEl.style.display =\n",
              "        google.colab.kernel.accessAllowed ? 'block' : 'none';\n",
              "\n",
              "      async function convertToInteractive(key) {\n",
              "        const element = document.querySelector('#df-4427d9e2-32a2-4e35-a541-559a1c37cd0c');\n",
              "        const dataTable =\n",
              "          await google.colab.kernel.invokeFunction('convertToInteractive',\n",
              "                                                    [key], {});\n",
              "        if (!dataTable) return;\n",
              "\n",
              "        const docLinkHtml = 'Like what you see? Visit the ' +\n",
              "          '<a target=\"_blank\" href=https://colab.research.google.com/notebooks/data_table.ipynb>data table notebook</a>'\n",
              "          + ' to learn more about interactive tables.';\n",
              "        element.innerHTML = '';\n",
              "        dataTable['output_type'] = 'display_data';\n",
              "        await google.colab.output.renderOutput(dataTable, element);\n",
              "        const docLink = document.createElement('div');\n",
              "        docLink.innerHTML = docLinkHtml;\n",
              "        element.appendChild(docLink);\n",
              "      }\n",
              "    </script>\n",
              "  </div>\n",
              "\n",
              "\n",
              "<div id=\"df-73c7de65-a3cb-4cd6-87e8-308fa5f59f0f\">\n",
              "  <button class=\"colab-df-quickchart\" onclick=\"quickchart('df-73c7de65-a3cb-4cd6-87e8-308fa5f59f0f')\"\n",
              "            title=\"Suggest charts\"\n",
              "            style=\"display:none;\">\n",
              "\n",
              "<svg xmlns=\"http://www.w3.org/2000/svg\" height=\"24px\"viewBox=\"0 0 24 24\"\n",
              "     width=\"24px\">\n",
              "    <g>\n",
              "        <path d=\"M19 3H5c-1.1 0-2 .9-2 2v14c0 1.1.9 2 2 2h14c1.1 0 2-.9 2-2V5c0-1.1-.9-2-2-2zM9 17H7v-7h2v7zm4 0h-2V7h2v10zm4 0h-2v-4h2v4z\"/>\n",
              "    </g>\n",
              "</svg>\n",
              "  </button>\n",
              "\n",
              "<style>\n",
              "  .colab-df-quickchart {\n",
              "      --bg-color: #E8F0FE;\n",
              "      --fill-color: #1967D2;\n",
              "      --hover-bg-color: #E2EBFA;\n",
              "      --hover-fill-color: #174EA6;\n",
              "      --disabled-fill-color: #AAA;\n",
              "      --disabled-bg-color: #DDD;\n",
              "  }\n",
              "\n",
              "  [theme=dark] .colab-df-quickchart {\n",
              "      --bg-color: #3B4455;\n",
              "      --fill-color: #D2E3FC;\n",
              "      --hover-bg-color: #434B5C;\n",
              "      --hover-fill-color: #FFFFFF;\n",
              "      --disabled-bg-color: #3B4455;\n",
              "      --disabled-fill-color: #666;\n",
              "  }\n",
              "\n",
              "  .colab-df-quickchart {\n",
              "    background-color: var(--bg-color);\n",
              "    border: none;\n",
              "    border-radius: 50%;\n",
              "    cursor: pointer;\n",
              "    display: none;\n",
              "    fill: var(--fill-color);\n",
              "    height: 32px;\n",
              "    padding: 0;\n",
              "    width: 32px;\n",
              "  }\n",
              "\n",
              "  .colab-df-quickchart:hover {\n",
              "    background-color: var(--hover-bg-color);\n",
              "    box-shadow: 0 1px 2px rgba(60, 64, 67, 0.3), 0 1px 3px 1px rgba(60, 64, 67, 0.15);\n",
              "    fill: var(--button-hover-fill-color);\n",
              "  }\n",
              "\n",
              "  .colab-df-quickchart-complete:disabled,\n",
              "  .colab-df-quickchart-complete:disabled:hover {\n",
              "    background-color: var(--disabled-bg-color);\n",
              "    fill: var(--disabled-fill-color);\n",
              "    box-shadow: none;\n",
              "  }\n",
              "\n",
              "  .colab-df-spinner {\n",
              "    border: 2px solid var(--fill-color);\n",
              "    border-color: transparent;\n",
              "    border-bottom-color: var(--fill-color);\n",
              "    animation:\n",
              "      spin 1s steps(1) infinite;\n",
              "  }\n",
              "\n",
              "  @keyframes spin {\n",
              "    0% {\n",
              "      border-color: transparent;\n",
              "      border-bottom-color: var(--fill-color);\n",
              "      border-left-color: var(--fill-color);\n",
              "    }\n",
              "    20% {\n",
              "      border-color: transparent;\n",
              "      border-left-color: var(--fill-color);\n",
              "      border-top-color: var(--fill-color);\n",
              "    }\n",
              "    30% {\n",
              "      border-color: transparent;\n",
              "      border-left-color: var(--fill-color);\n",
              "      border-top-color: var(--fill-color);\n",
              "      border-right-color: var(--fill-color);\n",
              "    }\n",
              "    40% {\n",
              "      border-color: transparent;\n",
              "      border-right-color: var(--fill-color);\n",
              "      border-top-color: var(--fill-color);\n",
              "    }\n",
              "    60% {\n",
              "      border-color: transparent;\n",
              "      border-right-color: var(--fill-color);\n",
              "    }\n",
              "    80% {\n",
              "      border-color: transparent;\n",
              "      border-right-color: var(--fill-color);\n",
              "      border-bottom-color: var(--fill-color);\n",
              "    }\n",
              "    90% {\n",
              "      border-color: transparent;\n",
              "      border-bottom-color: var(--fill-color);\n",
              "    }\n",
              "  }\n",
              "</style>\n",
              "\n",
              "  <script>\n",
              "    async function quickchart(key) {\n",
              "      const quickchartButtonEl =\n",
              "        document.querySelector('#' + key + ' button');\n",
              "      quickchartButtonEl.disabled = true;  // To prevent multiple clicks.\n",
              "      quickchartButtonEl.classList.add('colab-df-spinner');\n",
              "      try {\n",
              "        const charts = await google.colab.kernel.invokeFunction(\n",
              "            'suggestCharts', [key], {});\n",
              "      } catch (error) {\n",
              "        console.error('Error during call to suggestCharts:', error);\n",
              "      }\n",
              "      quickchartButtonEl.classList.remove('colab-df-spinner');\n",
              "      quickchartButtonEl.classList.add('colab-df-quickchart-complete');\n",
              "    }\n",
              "    (() => {\n",
              "      let quickchartButtonEl =\n",
              "        document.querySelector('#df-73c7de65-a3cb-4cd6-87e8-308fa5f59f0f button');\n",
              "      quickchartButtonEl.style.display =\n",
              "        google.colab.kernel.accessAllowed ? 'block' : 'none';\n",
              "    })();\n",
              "  </script>\n",
              "</div>\n",
              "\n",
              "    </div>\n",
              "  </div>\n"
            ],
            "text/plain": [
              "    Latitude   Price        Size  Population Price_Category  PropType_0  \\\n",
              "0  45.256161  1425.0  950.000000       14211         Medium        True   \n",
              "1  45.192003  1100.0  780.000000       14211            low        True   \n",
              "2  45.146672  2700.0  693.228433       14211           High       False   \n",
              "3  45.143726  1200.0  900.000000       14211            low       False   \n",
              "4  45.068973  4000.0  693.228433       14211           High       False   \n",
              "\n",
              "   PropType_1  PropType_2  PropType_3  PropType_4  ...  \\\n",
              "0       False       False       False       False  ...   \n",
              "1       False       False       False       False  ...   \n",
              "2       False       False       False        True  ...   \n",
              "3       False       False       False        True  ...   \n",
              "4       False       False       False        True  ...   \n",
              "\n",
              "   Bathrooms_Bathrooms: 6+  Hydro_N  Hydro_Y  Heat_N  Heat_Y  Water_N  \\\n",
              "0                    False     True    False   False    True    False   \n",
              "1                    False     True    False    True   False    False   \n",
              "2                    False     True    False   False    True    False   \n",
              "3                    False     True    False    True   False    False   \n",
              "4                    False     True    False   False    True    False   \n",
              "\n",
              "   Water_Y  Agreement_1 Year  Agreement_Month-to-month  \\\n",
              "0     True              True                     False   \n",
              "1     True              True                     False   \n",
              "2     True              True                     False   \n",
              "3     True              True                     False   \n",
              "4     True              True                     False   \n",
              "\n",
              "   Agreement_Not Available  \n",
              "0                    False  \n",
              "1                    False  \n",
              "2                    False  \n",
              "3                    False  \n",
              "4                    False  \n",
              "\n",
              "[5 rows x 41 columns]"
            ]
          },
          "execution_count": 62,
          "metadata": {},
          "output_type": "execute_result"
        }
      ],
      "source": [
        "df_encoded.head()"
      ]
    },
    {
      "cell_type": "code",
      "execution_count": null,
      "metadata": {
        "id": "OeEhSF98-9jF"
      },
      "outputs": [],
      "source": [
        "y = df_encoded[\"Price_Category\"]\n",
        "X = df_encoded.drop([\"Price_Category\"], axis=1)"
      ]
    },
    {
      "cell_type": "code",
      "execution_count": null,
      "metadata": {
        "id": "CVz8qFR1Cca1"
      },
      "outputs": [],
      "source": [
        "# Split the data into training and testing sets\n",
        "X_train, X_test, y_train, y_test = train_test_split(X, y, test_size=0.2, random_state=42)\n",
        "\n",
        "# A scaler: StandardScaler()\n",
        "scaler = StandardScaler()\n",
        "# Fit the scaler to the training data and transform it\n",
        "X_train = scaler.fit_transform(X_train)\n",
        "\n",
        "# Transform the testing data using the fitted scaler\n",
        "X_test = scaler.transform(X_test)"
      ]
    },
    {
      "cell_type": "code",
      "execution_count": null,
      "metadata": {
        "id": "QsadDRe-EhvG"
      },
      "outputs": [],
      "source": [
        "from sklearn.preprocessing import StandardScaler\n",
        "scaler = StandardScaler()\n",
        "# Fit the scaler to the training data and transform it\n",
        "X_train = scaler.fit_transform(X_train)\n",
        "\n",
        "# Transform the testing data using the fitted scaler\n",
        "X_test = scaler.transform(X_test)"
      ]
    },
    {
      "cell_type": "code",
      "execution_count": null,
      "metadata": {
        "id": "QkN2Ez6TDPn-"
      },
      "outputs": [],
      "source": [
        "X_scaled = X"
      ]
    },
    {
      "cell_type": "code",
      "execution_count": null,
      "metadata": {
        "colab": {
          "base_uri": "https://localhost:8080/"
        },
        "id": "yezt5ucaIzyn",
        "outputId": "6585a56a-859c-42c2-97bf-49f4266c0249"
      },
      "outputs": [
        {
          "data": {
            "text/plain": [
              "dtype('O')"
            ]
          },
          "execution_count": 67,
          "metadata": {},
          "output_type": "execute_result"
        }
      ],
      "source": [
        "y.dtypes"
      ]
    },
    {
      "cell_type": "markdown",
      "metadata": {
        "id": "soMN_XXYbzmz"
      },
      "source": [
        "# This code trains a logistic regression model, evaluates its performance using accuracy, and provides a detailed classification report containing additional performance metrics.\n",
        "\n",
        "\n",
        "\n",
        "\n",
        "\n"
      ]
    },
    {
      "cell_type": "code",
      "execution_count": null,
      "metadata": {
        "colab": {
          "base_uri": "https://localhost:8080/"
        },
        "id": "uXc5qHOGGAin",
        "outputId": "8b999b64-8c55-4eca-87e6-92347b94a06c"
      },
      "outputs": [
        {
          "name": "stdout",
          "output_type": "stream",
          "text": [
            "Logistic Regression : 0.9953370895667379\n",
            "Classification Report:               precision    recall  f1-score   support\n",
            "\n",
            "        High       1.00      0.99      1.00      2559\n",
            "      Medium       0.99      1.00      0.99      1868\n",
            "         low       0.99      1.00      1.00       720\n",
            "\n",
            "    accuracy                           1.00      5147\n",
            "   macro avg       0.99      1.00      1.00      5147\n",
            "weighted avg       1.00      1.00      1.00      5147\n",
            "\n"
          ]
        }
      ],
      "source": [
        "from sklearn.metrics import classification_report\n",
        "logreg = LogisticRegression(max_iter=1000)\n",
        "logreg.fit(X_train, y_train)\n",
        "y_pred = logreg.predict(X_test)\n",
        "accuracylg = accuracy_score(y_test, y_pred)\n",
        "print(\"Logistic Regression :\", accuracylg)\n",
        "report = classification_report(y_test, y_pred)\n",
        "print(\"Classification Report:\", report)"
      ]
    },
    {
      "cell_type": "markdown",
      "metadata": {
        "id": "dEP61DzgcFPy"
      },
      "source": [
        "- This code assesses the performance of the logistic regression model using k-fold cross-validation, where the data is split into 5 folds, shuffled, and the model is trained and evaluated on each fold"
      ]
    },
    {
      "cell_type": "code",
      "execution_count": null,
      "metadata": {
        "colab": {
          "base_uri": "https://localhost:8080/"
        },
        "id": "wi_kLIljOzTs",
        "outputId": "3813a070-a2c8-42a8-839a-1c39c6c85fed"
      },
      "outputs": [
        {
          "name": "stdout",
          "output_type": "stream",
          "text": [
            "Cross-validation scores (KFold 1): 0.8287353585359881\n"
          ]
        }
      ],
      "source": [
        "kf1 = KFold(n_splits=9, shuffle=True, random_state=42)\n",
        "cv_scores_kf1 = cross_val_score(logreg, X_scaled, y, cv=kf1)\n",
        "print(\"Cross-validation scores (KFold 1):\", np.mean(cv_scores_kf1))"
      ]
    },
    {
      "cell_type": "code",
      "execution_count": null,
      "metadata": {
        "colab": {
          "base_uri": "https://localhost:8080/"
        },
        "id": "CTETRMSIEXt-",
        "outputId": "7fdb50e8-1012-476b-f3a4-d3fe1c3f0d5f"
      },
      "outputs": [
        {
          "name": "stdout",
          "output_type": "stream",
          "text": [
            "Best Parameters: {'C': 1, 'penalty': 'l1', 'solver': 'liblinear'}\n",
            "Mean Cross-validation Score: 0.9762555904975153\n"
          ]
        },
        {
          "name": "stderr",
          "output_type": "stream",
          "text": [
            "/usr/local/lib/python3.10/dist-packages/sklearn/base.py:439: UserWarning: X does not have valid feature names, but LogisticRegression was fitted with feature names\n",
            "  warnings.warn(\n"
          ]
        }
      ],
      "source": [
        "from sklearn.model_selection import GridSearchCV\n",
        "from sklearn.linear_model import LogisticRegression\n",
        "from sklearn.metrics import accuracy_score\n",
        "\n",
        "# Define a smaller parameter grid for hyperparameter tuning\n",
        "param_grid = {\n",
        "    'C': [0.1, 1, 10],          # Reduced regularization parameter options\n",
        "    'penalty': ['l1', 'l2'],    # Penalty term\n",
        "    'solver': ['liblinear']     # Use only 'liblinear' solver\n",
        "}\n",
        "\n",
        "# Perform grid search with cross-validation\n",
        "grid_search = GridSearchCV(LogisticRegression(max_iter=1000), param_grid, cv=None, scoring='accuracy')\n",
        "grid_search.fit(X_scaled, y)\n",
        "\n",
        "# Get the best logistic regression model\n",
        "best_logreg_model = grid_search.best_estimator_\n",
        "\n",
        "# Predict on the test set\n",
        "y_pred = best_logreg_model.predict(X_test)\n",
        "\n",
        "# Calculate accuracy\n",
        "accuracy_lgscv = accuracy_score(y_test, y_pred)\n",
        "\n",
        "# Print the best parameters found\n",
        "print(\"Best Parameters:\", grid_search.best_params_)\n",
        "\n",
        "# Get the mean cross-validation score for the best model\n",
        "print(\"Mean Cross-validation Score:\", grid_search.best_score_)\n"
      ]
    },
    {
      "cell_type": "code",
      "execution_count": null,
      "metadata": {
        "colab": {
          "base_uri": "https://localhost:8080/"
        },
        "id": "7RwqnyNzIrH-",
        "outputId": "35b2881a-4ab5-442c-9951-2c863f53ae49"
      },
      "outputs": [
        {
          "name": "stdout",
          "output_type": "stream",
          "text": [
            "KNN Accuracy: 0.8612784146104527\n",
            "KNN Classification Report:\n",
            "              precision    recall  f1-score   support\n",
            "\n",
            "        High       0.91      0.93      0.92      2559\n",
            "      Medium       0.81      0.83      0.82      1868\n",
            "         low       0.83      0.71      0.76       720\n",
            "\n",
            "    accuracy                           0.86      5147\n",
            "   macro avg       0.85      0.82      0.83      5147\n",
            "weighted avg       0.86      0.86      0.86      5147\n",
            "\n"
          ]
        }
      ],
      "source": [
        "\n",
        "from sklearn.neighbors import KNeighborsClassifier\n",
        "\n",
        "# Create KNN classifier\n",
        "knn = KNeighborsClassifier()\n",
        "\n",
        "# Fit the model\n",
        "knn.fit(X_train, y_train)\n",
        "\n",
        "# Predict on the test set\n",
        "y_pred_knn = knn.predict(X_test)\n",
        "\n",
        "# Calculate accuracy\n",
        "accuracy_knn = accuracy_score(y_test, y_pred_knn)\n",
        "\n",
        "# Print accuracy\n",
        "print(\"KNN Accuracy:\", accuracy_knn)\n",
        "\n",
        "# Generate classification report\n",
        "report_knn = classification_report(y_test, y_pred_knn)\n",
        "print(\"KNN Classification Report:\")\n",
        "print(report_knn)\n"
      ]
    },
    {
      "cell_type": "code",
      "execution_count": null,
      "metadata": {
        "colab": {
          "base_uri": "https://localhost:8080/"
        },
        "id": "fpJuuml_JbXP",
        "outputId": "b5f3bc2d-224a-445e-da3a-8c615bb482c9"
      },
      "outputs": [
        {
          "name": "stdout",
          "output_type": "stream",
          "text": [
            "Mean Cross-validation Score (KNN): 0.9865925165845102\n"
          ]
        }
      ],
      "source": [
        "from sklearn.model_selection import cross_val_score, KFold\n",
        "from sklearn.neighbors import KNeighborsClassifier\n",
        "\n",
        "# Define KNN classifier\n",
        "knn = KNeighborsClassifier()\n",
        "\n",
        "# Initialize KFold cross-validator\n",
        "kf = KFold(n_splits=5, shuffle=True, random_state=42)\n",
        "\n",
        "# Perform cross-validation\n",
        "cv_scores_knn = cross_val_score(knn, X_scaled, y, cv=kf)\n",
        "\n",
        "# Print mean cross-validation score\n",
        "print(\"Mean Cross-validation Score (KNN):\", np.mean(cv_scores_knn))\n"
      ]
    },
    {
      "cell_type": "code",
      "execution_count": null,
      "metadata": {
        "colab": {
          "base_uri": "https://localhost:8080/"
        },
        "id": "rTR0yMwCKAyZ",
        "outputId": "cad415bc-49b7-4e2f-c9e8-a59ac7f25492"
      },
      "outputs": [
        {
          "name": "stderr",
          "output_type": "stream",
          "text": [
            "/usr/local/lib/python3.10/dist-packages/sklearn/base.py:439: UserWarning: X does not have valid feature names, but KNeighborsClassifier was fitted with feature names\n",
            "  warnings.warn(\n"
          ]
        },
        {
          "name": "stdout",
          "output_type": "stream",
          "text": [
            "Best Parameters (KNN): {'algorithm': 'auto', 'n_neighbors': 7, 'weights': 'uniform'}\n"
          ]
        }
      ],
      "source": [
        "from sklearn.model_selection import GridSearchCV\n",
        "from sklearn.neighbors import KNeighborsClassifier\n",
        "from sklearn.metrics import accuracy_score\n",
        "\n",
        "# Define the parameter grid for KNN hyperparameter tuning\n",
        "param_grid_knn = {\n",
        "    'n_neighbors': [3, 5, 7],   # Number of neighbors\n",
        "    'weights': ['uniform', 'distance'],  # Weight function\n",
        "    'algorithm': ['auto', 'ball_tree', 'kd_tree', 'brute'],  # Algorithm to compute nearest neighbors\n",
        "}\n",
        "\n",
        "# Perform grid search with cross-validation for KNN\n",
        "grid_search_knn = GridSearchCV(KNeighborsClassifier(), param_grid_knn, cv=None, scoring='accuracy')\n",
        "grid_search_knn.fit(X_scaled, y)\n",
        "\n",
        "# Get the best KNN model\n",
        "best_knn_model = grid_search_knn.best_estimator_\n",
        "\n",
        "# Predict on the test set\n",
        "y_pred_knn = best_knn_model.predict(X_test)\n",
        "\n",
        "# Calculate accuracy\n",
        "accuracy_knn = accuracy_score(y_test, y_pred_knn)\n",
        "\n",
        "# Print the best parameters found for KNN\n",
        "print(\"Best Parameters (KNN):\", grid_search_knn.best_params_)\n",
        "\n",
        "# Get the mean cross-vali\n"
      ]
    },
    {
      "cell_type": "code",
      "execution_count": null,
      "metadata": {
        "colab": {
          "base_uri": "https://localhost:8080/"
        },
        "id": "R1PsY0vSIxi7",
        "outputId": "e620dc64-a4d3-423b-f021-254e8e87c9f5"
      },
      "outputs": [
        {
          "name": "stdout",
          "output_type": "stream",
          "text": [
            "Decision Tree Accuracy: 1.0\n",
            "Decision Tree Classification Report:\n",
            "              precision    recall  f1-score   support\n",
            "\n",
            "        High       1.00      1.00      1.00      2559\n",
            "      Medium       1.00      1.00      1.00      1868\n",
            "         low       1.00      1.00      1.00       720\n",
            "\n",
            "    accuracy                           1.00      5147\n",
            "   macro avg       1.00      1.00      1.00      5147\n",
            "weighted avg       1.00      1.00      1.00      5147\n",
            "\n"
          ]
        }
      ],
      "source": [
        "from sklearn.tree import DecisionTreeClassifier\n",
        "\n",
        "# Create Decision Tree classifier\n",
        "dt = DecisionTreeClassifier()\n",
        "\n",
        "# Fit the model\n",
        "dt.fit(X_train, y_train)\n",
        "\n",
        "# Predict on the test set\n",
        "y_pred_dt = dt.predict(X_test)\n",
        "\n",
        "# Calculate accuracy\n",
        "accuracy_dt = accuracy_score(y_test, y_pred_dt)\n",
        "\n",
        "# Print accuracy\n",
        "print(\"Decision Tree Accuracy:\", accuracy_dt)\n",
        "\n",
        "# Generate classification report\n",
        "report_dt = classification_report(y_test, y_pred_dt)\n",
        "print(\"Decision Tree Classification Report:\")\n",
        "print(report_dt)\n"
      ]
    },
    {
      "cell_type": "code",
      "execution_count": null,
      "metadata": {
        "colab": {
          "base_uri": "https://localhost:8080/"
        },
        "id": "vgoFsSPRJggy",
        "outputId": "95dc3bae-2912-48d9-9a9a-5b92802d035e"
      },
      "outputs": [
        {
          "name": "stdout",
          "output_type": "stream",
          "text": [
            "Mean Cross-validation Score (Decision Tree): 1.0\n"
          ]
        }
      ],
      "source": [
        "from sklearn.tree import DecisionTreeClassifier\n",
        "\n",
        "# Define Decision Tree classifier\n",
        "dt = DecisionTreeClassifier()\n",
        "\n",
        "# Perform cross-validation\n",
        "cv_scores_dt = cross_val_score(dt, X_scaled, y, cv=kf)\n",
        "\n",
        "# Print mean cross-validation score\n",
        "print(\"Mean Cross-validation Score (Decision Tree):\", np.mean(cv_scores_dt))\n"
      ]
    },
    {
      "cell_type": "code",
      "execution_count": null,
      "metadata": {
        "colab": {
          "base_uri": "https://localhost:8080/"
        },
        "id": "Wosm2GphM89H",
        "outputId": "940bedf8-80f1-470e-a8ee-44033fd1a27d"
      },
      "outputs": [
        {
          "name": "stdout",
          "output_type": "stream",
          "text": [
            "Best Parameters (Decision Tree): {'criterion': 'gini', 'max_depth': None, 'min_samples_leaf': 1, 'min_samples_split': 2}\n",
            "Mean Cross-validation Score (Decision Tree): 1.0\n"
          ]
        },
        {
          "name": "stderr",
          "output_type": "stream",
          "text": [
            "/usr/local/lib/python3.10/dist-packages/sklearn/base.py:439: UserWarning: X does not have valid feature names, but DecisionTreeClassifier was fitted with feature names\n",
            "  warnings.warn(\n"
          ]
        }
      ],
      "source": [
        "from sklearn.model_selection import GridSearchCV\n",
        "from sklearn.tree import DecisionTreeClassifier\n",
        "from sklearn.metrics import accuracy_score\n",
        "\n",
        "# Define the parameter grid for Decision Tree hyperparameter tuning\n",
        "param_grid_dt = {\n",
        "    'criterion': ['gini', 'entropy'],   # Split criterion\n",
        "    'max_depth': [None, 10, 20, 30],     # Maximum depth of the tree\n",
        "    'min_samples_split': [2, 5, 10],     # Minimum number of samples required to split a node\n",
        "    'min_samples_leaf': [1, 2, 4]        # Minimum number of samples required at each leaf node\n",
        "}\n",
        "\n",
        "# Perform grid search with cross-validation for Decision Tree\n",
        "grid_search_dt = GridSearchCV(DecisionTreeClassifier(), param_grid_dt, cv=None, scoring='accuracy')\n",
        "grid_search_dt.fit(X_scaled, y)\n",
        "\n",
        "# Get the best Decision Tree model\n",
        "best_dt_model = grid_search_dt.best_estimator_\n",
        "\n",
        "# Predict on the test set\n",
        "y_pred_dt = best_dt_model.predict(X_test)\n",
        "\n",
        "# Calculate accuracy\n",
        "accuracy_dt = accuracy_score(y_test, y_pred_dt)\n",
        "\n",
        "# Print the best parameters found for Decision Tree\n",
        "print(\"Best Parameters (Decision Tree):\", grid_search_dt.best_params_)\n",
        "\n",
        "# Get the mean cross-validation score for the best Decision Tree model\n",
        "print(\"Mean Cross-validation Score (Decision Tree):\", grid_search_dt.best_score_)\n"
      ]
    },
    {
      "cell_type": "code",
      "execution_count": null,
      "metadata": {
        "colab": {
          "base_uri": "https://localhost:8080/"
        },
        "id": "BOGZzHm1I4P6",
        "outputId": "5b2f78eb-c13c-43d1-fd71-78820e8a026d"
      },
      "outputs": [
        {
          "name": "stdout",
          "output_type": "stream",
          "text": [
            "Random Forest Accuracy: 1.0\n",
            "Random Forest Classification Report:\n",
            "              precision    recall  f1-score   support\n",
            "\n",
            "        High       1.00      1.00      1.00      2559\n",
            "      Medium       1.00      1.00      1.00      1868\n",
            "         low       1.00      1.00      1.00       720\n",
            "\n",
            "    accuracy                           1.00      5147\n",
            "   macro avg       1.00      1.00      1.00      5147\n",
            "weighted avg       1.00      1.00      1.00      5147\n",
            "\n"
          ]
        }
      ],
      "source": [
        "from sklearn.ensemble import RandomForestClassifier\n",
        "\n",
        "# Create Random Forest classifier\n",
        "rf = RandomForestClassifier()\n",
        "\n",
        "# Fit the model\n",
        "rf.fit(X_train, y_train)\n",
        "\n",
        "# Predict on the test set\n",
        "y_pred_rf = rf.predict(X_test)\n",
        "\n",
        "# Calculate accuracy\n",
        "accuracy_rf = accuracy_score(y_test, y_pred_rf)\n",
        "\n",
        "# Print accuracy\n",
        "print(\"Random Forest Accuracy:\", accuracy_rf)\n",
        "\n",
        "# Generate classification report\n",
        "report_rf = classification_report(y_test, y_pred_rf)\n",
        "print(\"Random Forest Classification Report:\")\n",
        "print(report_rf)\n"
      ]
    },
    {
      "cell_type": "code",
      "execution_count": null,
      "metadata": {
        "colab": {
          "base_uri": "https://localhost:8080/"
        },
        "id": "N_qvybaNJl03",
        "outputId": "efa41be8-3fb9-45ce-8195-5b7eb772318b"
      },
      "outputs": [
        {
          "name": "stdout",
          "output_type": "stream",
          "text": [
            "Mean Cross-validation Score (Random Forest): 0.9996891091003397\n"
          ]
        }
      ],
      "source": [
        "from sklearn.ensemble import RandomForestClassifier\n",
        "\n",
        "# Define Random Forest classifier\n",
        "rf = RandomForestClassifier()\n",
        "\n",
        "# Perform cross-validation\n",
        "cv_scores_rf = cross_val_score(rf, X_scaled, y, cv=kf)\n",
        "\n",
        "# Print mean cross-validation score\n",
        "print(\"Mean Cross-validation Score (Random Forest):\", np.mean(cv_scores_rf))\n"
      ]
    },
    {
      "cell_type": "code",
      "execution_count": null,
      "metadata": {
        "colab": {
          "base_uri": "https://localhost:8080/"
        },
        "id": "_A3VYpP5NDBS",
        "outputId": "164e9f80-f377-423e-c68c-e23962dd5f13"
      },
      "outputs": [
        {
          "name": "stdout",
          "output_type": "stream",
          "text": [
            "Best Parameters for Random Forest: {'max_depth': None, 'min_samples_leaf': 2, 'min_samples_split': 5, 'n_estimators': 100}\n",
            "Mean Cross-validation Score for Random Forest: 0.9983676944093174\n"
          ]
        },
        {
          "name": "stderr",
          "output_type": "stream",
          "text": [
            "/usr/local/lib/python3.10/dist-packages/sklearn/base.py:439: UserWarning: X does not have valid feature names, but RandomForestClassifier was fitted with feature names\n",
            "  warnings.warn(\n"
          ]
        }
      ],
      "source": [
        "from sklearn.model_selection import GridSearchCV\n",
        "from sklearn.ensemble import RandomForestClassifier\n",
        "from sklearn.metrics import accuracy_score\n",
        "\n",
        "# Define a smaller parameter grid for Random Forest hyperparameter tuning\n",
        "param_grid_rf = {\n",
        "    'n_estimators': [50, 100],           # Number of trees in the forest\n",
        "    'max_depth': [None, 10],             # Maximum depth of the tree\n",
        "    'min_samples_split': [2, 5],         # Minimum number of samples required to split a node\n",
        "    'min_samples_leaf': [1, 2]           # Minimum number of samples required at each leaf node\n",
        "}\n",
        "\n",
        "# Perform grid search with cross-validation for Random Forest\n",
        "grid_search_rf = GridSearchCV(RandomForestClassifier(), param_grid_rf, cv=None, scoring='accuracy')\n",
        "grid_search_rf.fit(X_scaled, y)\n",
        "\n",
        "# Get the best Random Forest model\n",
        "best_rf_model = grid_search_rf.best_estimator_\n",
        "\n",
        "# Predict on the test set\n",
        "y_pred_rf = best_rf_model.predict(X_test)\n",
        "\n",
        "# Calculate accuracy\n",
        "accuracy_rf = accuracy_score(y_test, y_pred_rf)\n",
        "\n",
        "# Print the best parameters found for Random Forest\n",
        "print(\"Best Parameters for Random Forest:\", grid_search_rf.best_params_)\n",
        "\n",
        "# Get the mean cross-validation score for the best Random Forest model\n",
        "print(\"Mean Cross-validation Score for Random Forest:\", grid_search_rf.best_score_)\n",
        "\n"
      ]
    },
    {
      "cell_type": "code",
      "execution_count": null,
      "metadata": {
        "colab": {
          "base_uri": "https://localhost:8080/"
        },
        "id": "93pTKSaOI8su",
        "outputId": "423d6ecb-78ba-46c6-8bc8-9a24f202612e"
      },
      "outputs": [
        {
          "name": "stdout",
          "output_type": "stream",
          "text": [
            "Gradient Boosting Accuracy: 1.0\n",
            "Gradient Boosting Classification Report:\n",
            "              precision    recall  f1-score   support\n",
            "\n",
            "        High       1.00      1.00      1.00      2559\n",
            "      Medium       1.00      1.00      1.00      1868\n",
            "         low       1.00      1.00      1.00       720\n",
            "\n",
            "    accuracy                           1.00      5147\n",
            "   macro avg       1.00      1.00      1.00      5147\n",
            "weighted avg       1.00      1.00      1.00      5147\n",
            "\n"
          ]
        }
      ],
      "source": [
        "from sklearn.ensemble import GradientBoostingClassifier\n",
        "\n",
        "# Create Gradient Boosting classifier\n",
        "gb = GradientBoostingClassifier()\n",
        "\n",
        "# Fit the model\n",
        "gb.fit(X_train, y_train)\n",
        "\n",
        "# Predict on the test set\n",
        "y_pred_gb = gb.predict(X_test)\n",
        "\n",
        "# Calculate accuracy\n",
        "accuracy_gb = accuracy_score(y_test, y_pred_gb)\n",
        "\n",
        "# Print accuracy\n",
        "print(\"Gradient Boosting Accuracy:\", accuracy_gb)\n",
        "\n",
        "# Generate classification report\n",
        "report_gb = classification_report(y_test, y_pred_gb)\n",
        "print(\"Gradient Boosting Classification Report:\")\n",
        "print(report_gb)\n"
      ]
    },
    {
      "cell_type": "code",
      "execution_count": null,
      "metadata": {
        "colab": {
          "base_uri": "https://localhost:8080/"
        },
        "id": "Y6n9DzLaJp_i",
        "outputId": "b9a9d0bb-8297-498f-f391-3b2c5312f5ef"
      },
      "outputs": [
        {
          "name": "stdout",
          "output_type": "stream",
          "text": [
            "Mean Cross-validation Score (Gradient Boosting): 1.0\n"
          ]
        }
      ],
      "source": [
        "from sklearn.ensemble import GradientBoostingClassifier\n",
        "\n",
        "# Define Gradient Boosting classifier\n",
        "gb = GradientBoostingClassifier()\n",
        "\n",
        "# Perform cross-validation\n",
        "cv_scores_gb = cross_val_score(gb, X_scaled, y, cv=kf)\n",
        "\n",
        "# Print mean cross-validation score\n",
        "print(\"Mean Cross-validation Score (Gradient Boosting):\", np.mean(cv_scores_gb))\n"
      ]
    },
    {
      "cell_type": "code",
      "execution_count": null,
      "metadata": {
        "colab": {
          "base_uri": "https://localhost:8080/"
        },
        "id": "Ift_bk98UhkM",
        "outputId": "42f0b297-bc7a-4c97-e0ac-6242a747fcb6"
      },
      "outputs": [
        {
          "name": "stdout",
          "output_type": "stream",
          "text": [
            "Best Parameters for Gradient Boosting: {'learning_rate': 0.01, 'max_depth': 3, 'min_samples_leaf': 1, 'min_samples_split': 2, 'n_estimators': 50}\n",
            "Mean Cross-validation Score for Gradient Boosting: 1.0\n"
          ]
        },
        {
          "name": "stderr",
          "output_type": "stream",
          "text": [
            "/usr/local/lib/python3.10/dist-packages/sklearn/base.py:439: UserWarning: X does not have valid feature names, but GradientBoostingClassifier was fitted with feature names\n",
            "  warnings.warn(\n"
          ]
        }
      ],
      "source": [
        "from sklearn.model_selection import GridSearchCV\n",
        "from sklearn.ensemble import GradientBoostingClassifier\n",
        "from sklearn.metrics import accuracy_score\n",
        "\n",
        "# Define a smaller parameter grid for Gradient Boosting hyperparameter tuning\n",
        "param_grid_gb = {\n",
        "    'n_estimators': [50, 100],          # Number of boosting stages\n",
        "    'learning_rate': [0.01, 0.1],       # Learning rate shrinks the contribution of each tree\n",
        "    'max_depth': [3, 5],                # Maximum depth of the individual trees\n",
        "    'min_samples_split': [2, 5],        # Minimum number of samples required to split a node\n",
        "    'min_samples_leaf': [1, 2]          # Minimum number of samples required at each leaf node\n",
        "}\n",
        "\n",
        "# Perform grid search with cross-validation for Gradient Boosting\n",
        "grid_search_gb = GridSearchCV(GradientBoostingClassifier(), param_grid_gb, cv=None, scoring='accuracy')\n",
        "grid_search_gb.fit(X_scaled, y)\n",
        "\n",
        "# Get the best Gradient Boosting model\n",
        "best_gb_model = grid_search_gb.best_estimator_\n",
        "\n",
        "# Predict on the test set\n",
        "y_pred_gb = best_gb_model.predict(X_test)\n",
        "\n",
        "# Calculate accuracy\n",
        "accuracy_gb = accuracy_score(y_test, y_pred_gb)\n",
        "\n",
        "# Print the best parameters found for Gradient Boosting\n",
        "print(\"Best Parameters for Gradient Boosting:\", grid_search_gb.best_params_)\n",
        "\n",
        "# Get the mean cross-validation score for the best Gradient Boosting model\n",
        "print(\"Mean Cross-validation Score for Gradient Boosting:\", grid_search_gb.best_score_)\n"
      ]
    },
    {
      "cell_type": "code",
      "execution_count": null,
      "metadata": {
        "id": "37InODeM9Nyv"
      },
      "outputs": [],
      "source": [
        "!pip install streamlit joblib"
      ]
    },
    {
      "cell_type": "code",
      "execution_count": null,
      "metadata": {
        "colab": {
          "base_uri": "https://localhost:8080/"
        },
        "id": "OrXWcqPyELxC",
        "outputId": "d82dc465-cd88-407d-ad7a-8211f0c309ee"
      },
      "outputs": [
        {
          "data": {
            "text/plain": [
              "['rf.pkl']"
            ]
          },
          "execution_count": 85,
          "metadata": {},
          "output_type": "execute_result"
        }
      ],
      "source": [
        "import joblib\n",
        "\n",
        "# Assuming 'random_forest' is your best trained Random Forest Regressor model\n",
        "model = rf  # Replace with your actual model\n",
        "\n",
        "# Specify the file path where you want to save the model\n",
        "model_filename = 'rf.pkl'\n",
        "\n",
        "# Save the model to a .pkl file\n",
        "joblib.dump(model, model_filename)"
      ]
    },
    {
      "cell_type": "code",
      "execution_count": null,
      "metadata": {
        "colab": {
          "base_uri": "https://localhost:8080/",
          "height": 573
        },
        "id": "XjVhf4pgUh0R",
        "outputId": "2c222f05-95de-43c6-ee09-d585684f0aaf"
      },
      "outputs": [
        {
          "data": {
            "application/vnd.google.colaboratory.intrinsic+json": {
              "summary": "{\n  \"name\": \"dash\",\n  \"rows\": 25732,\n  \"fields\": [\n    {\n      \"column\": \"CSDUID\",\n      \"properties\": {\n        \"dtype\": \"number\",\n        \"std\": 11305,\n        \"min\": 3501005,\n        \"max\": 3560090,\n        \"num_unique_values\": 267,\n        \"samples\": [\n          3522008,\n          3513020,\n          3542004\n        ],\n        \"semantic_type\": \"\",\n        \"description\": \"\"\n      }\n    },\n    {\n      \"column\": \"CSDNAME\",\n      \"properties\": {\n        \"dtype\": \"category\",\n        \"num_unique_values\": 266,\n        \"samples\": [\n          \"Northern Bruce Peninsula\",\n          \"Kitchener\",\n          \"Malahide\"\n        ],\n        \"semantic_type\": \"\",\n        \"description\": \"\"\n      }\n    },\n    {\n      \"column\": \"Latitude\",\n      \"properties\": {\n        \"dtype\": \"number\",\n        \"std\": 0.9598206172702032,\n        \"min\": 41.986668,\n        \"max\": 49.7991595,\n        \"num_unique_values\": 17554,\n        \"samples\": [\n          45.44912,\n          43.7931256,\n          43.6682962\n        ],\n        \"semantic_type\": \"\",\n        \"description\": \"\"\n      }\n    },\n    {\n      \"column\": \"Longitude\",\n      \"properties\": {\n        \"dtype\": \"number\",\n        \"std\": 2.0059840828212208,\n        \"min\": -94.4883286,\n        \"max\": -74.3746039,\n        \"num_unique_values\": 16214,\n        \"samples\": [\n          -75.6586772,\n          -83.0738,\n          -75.6918103\n        ],\n        \"semantic_type\": \"\",\n        \"description\": \"\"\n      }\n    },\n    {\n      \"column\": \"adId\",\n      \"properties\": {\n        \"dtype\": \"number\",\n        \"std\": 18910474,\n        \"min\": 1239107558,\n        \"max\": 1627283084,\n        \"num_unique_values\": 24689,\n        \"samples\": [\n          1623344052,\n          1619883992,\n          1505826243\n        ],\n        \"semantic_type\": \"\",\n        \"description\": \"\"\n      }\n    },\n    {\n      \"column\": \"Title\",\n      \"properties\": {\n        \"dtype\": \"string\",\n        \"num_unique_values\": 22747,\n        \"samples\": [\n          \"large basement apartment for rent in Barrie\",\n          \"Britannia Parkside: Apartment for rent in Ottawa West\",\n          \"207 MacLaren - Large Corner unit Bachelor Apartment\"\n        ],\n        \"semantic_type\": \"\",\n        \"description\": \"\"\n      }\n    },\n    {\n      \"column\": \"Type\",\n      \"properties\": {\n        \"dtype\": \"category\",\n        \"num_unique_values\": 6,\n        \"samples\": [\n          \"Apartment\",\n          \"House\",\n          \"Condo\"\n        ],\n        \"semantic_type\": \"\",\n        \"description\": \"\"\n      }\n    },\n    {\n      \"column\": \"Price\",\n      \"properties\": {\n        \"dtype\": \"category\",\n        \"num_unique_values\": 1281,\n        \"samples\": [\n          \"$325\",\n          \"$2,158\",\n          \"$1,119\"\n        ],\n        \"semantic_type\": \"\",\n        \"description\": \"\"\n      }\n    },\n    {\n      \"column\": \"Location\",\n      \"properties\": {\n        \"dtype\": \"string\",\n        \"num_unique_values\": 18645,\n        \"samples\": [\n          \"Toronto, ON M4P 0B9\",\n          \"Mississauga, ON L5J 0B3\",\n          \"Brantford, ON N3T 5B8\"\n        ],\n        \"semantic_type\": \"\",\n        \"description\": \"\"\n      }\n    },\n    {\n      \"column\": \"Bedrooms\",\n      \"properties\": {\n        \"dtype\": \"category\",\n        \"num_unique_values\": 10,\n        \"samples\": [\n          \"Bedrooms: 4 + Den\",\n          \"Bedrooms: 3\",\n          \"Bedrooms: 5+\"\n        ],\n        \"semantic_type\": \"\",\n        \"description\": \"\"\n      }\n    },\n    {\n      \"column\": \"Bathrooms\",\n      \"properties\": {\n        \"dtype\": \"category\",\n        \"num_unique_values\": 11,\n        \"samples\": [\n          \"Bathrooms: 3.5\",\n          \"Bathrooms: 1\",\n          \"Bathrooms: 6+\"\n        ],\n        \"semantic_type\": \"\",\n        \"description\": \"\"\n      }\n    },\n    {\n      \"column\": \"Hydro\",\n      \"properties\": {\n        \"dtype\": \"category\",\n        \"num_unique_values\": 2,\n        \"samples\": [\n          \"Y\",\n          \"N\"\n        ],\n        \"semantic_type\": \"\",\n        \"description\": \"\"\n      }\n    },\n    {\n      \"column\": \"Heat\",\n      \"properties\": {\n        \"dtype\": \"category\",\n        \"num_unique_values\": 2,\n        \"samples\": [\n          \"N\",\n          \"Y\"\n        ],\n        \"semantic_type\": \"\",\n        \"description\": \"\"\n      }\n    },\n    {\n      \"column\": \"Water\",\n      \"properties\": {\n        \"dtype\": \"category\",\n        \"num_unique_values\": 2,\n        \"samples\": [\n          \"N\",\n          \"Y\"\n        ],\n        \"semantic_type\": \"\",\n        \"description\": \"\"\n      }\n    },\n    {\n      \"column\": \"Size\",\n      \"properties\": {\n        \"dtype\": \"category\",\n        \"num_unique_values\": 1520,\n        \"samples\": [\n          \"1,151\",\n          \"3,030\"\n        ],\n        \"semantic_type\": \"\",\n        \"description\": \"\"\n      }\n    },\n    {\n      \"column\": \"Agreement Type\",\n      \"properties\": {\n        \"dtype\": \"category\",\n        \"num_unique_values\": 3,\n        \"samples\": [\n          \"1 Year\",\n          \"Month-to-month\"\n        ],\n        \"semantic_type\": \"\",\n        \"description\": \"\"\n      }\n    },\n    {\n      \"column\": \"URL\",\n      \"properties\": {\n        \"dtype\": \"string\",\n        \"num_unique_values\": 24929,\n        \"samples\": [\n          \"https://www.kijiji.ca/v-apartments-condos/oshawa-durham-region/rental-legal-basement-oshawa/1619078327\",\n          \"https://www.kijiji.ca/v-apartments-condos/city-of-toronto/bachelor-available-at-141-davisville-avenue-toronto/1617373211\"\n        ],\n        \"semantic_type\": \"\",\n        \"description\": \"\"\n      }\n    },\n    {\n      \"column\": \"Date Posted\",\n      \"properties\": {\n        \"dtype\": \"object\",\n        \"num_unique_values\": 15850,\n        \"samples\": [\n          \"6/6/2022 22:48\",\n          \"7/7/2022 6:22\"\n        ],\n        \"semantic_type\": \"\",\n        \"description\": \"\"\n      }\n    }\n  ]\n}",
              "type": "dataframe",
              "variable_name": "dash"
            },
            "text/html": [
              "\n",
              "  <div id=\"df-96b666ef-1b33-446b-84e2-32d37c642fe7\" class=\"colab-df-container\">\n",
              "    <div>\n",
              "<style scoped>\n",
              "    .dataframe tbody tr th:only-of-type {\n",
              "        vertical-align: middle;\n",
              "    }\n",
              "\n",
              "    .dataframe tbody tr th {\n",
              "        vertical-align: top;\n",
              "    }\n",
              "\n",
              "    .dataframe thead th {\n",
              "        text-align: right;\n",
              "    }\n",
              "</style>\n",
              "<table border=\"1\" class=\"dataframe\">\n",
              "  <thead>\n",
              "    <tr style=\"text-align: right;\">\n",
              "      <th></th>\n",
              "      <th>CSDUID</th>\n",
              "      <th>CSDNAME</th>\n",
              "      <th>Latitude</th>\n",
              "      <th>Longitude</th>\n",
              "      <th>adId</th>\n",
              "      <th>Title</th>\n",
              "      <th>Type</th>\n",
              "      <th>Price</th>\n",
              "      <th>Location</th>\n",
              "      <th>Bedrooms</th>\n",
              "      <th>Bathrooms</th>\n",
              "      <th>Hydro</th>\n",
              "      <th>Heat</th>\n",
              "      <th>Water</th>\n",
              "      <th>Size</th>\n",
              "      <th>Agreement Type</th>\n",
              "      <th>URL</th>\n",
              "      <th>Date Posted</th>\n",
              "    </tr>\n",
              "  </thead>\n",
              "  <tbody>\n",
              "    <tr>\n",
              "      <th>0</th>\n",
              "      <td>3501005</td>\n",
              "      <td>South Glengarry</td>\n",
              "      <td>45.256161</td>\n",
              "      <td>-74.595385</td>\n",
              "      <td>1618448386</td>\n",
              "      <td>2 Bedroom Apartment For Rent In Green Valley</td>\n",
              "      <td>Apartment</td>\n",
              "      <td>$1,425</td>\n",
              "      <td>Green Valley, ON K0C 1L0</td>\n",
              "      <td>Bedrooms: 2</td>\n",
              "      <td>Bathrooms: 1</td>\n",
              "      <td>N</td>\n",
              "      <td>Y</td>\n",
              "      <td>Y</td>\n",
              "      <td>950</td>\n",
              "      <td>1 Year</td>\n",
              "      <td>https://www.kijiji.ca/v-apartments-condos/corn...</td>\n",
              "      <td>5/25/2022 4:30</td>\n",
              "    </tr>\n",
              "    <tr>\n",
              "      <th>1</th>\n",
              "      <td>3501005</td>\n",
              "      <td>South Glengarry</td>\n",
              "      <td>45.192003</td>\n",
              "      <td>-74.374604</td>\n",
              "      <td>1617525343</td>\n",
              "      <td>Private 2 BDR in-law-suite upstairs. 1Aug.  $1...</td>\n",
              "      <td>Apartment</td>\n",
              "      <td>$1,100</td>\n",
              "      <td>21882 Old Hwy 2, Bainsville, ON K0C 1E0, Canada</td>\n",
              "      <td>Bedrooms: 2</td>\n",
              "      <td>Bathrooms: 1</td>\n",
              "      <td>N</td>\n",
              "      <td>N</td>\n",
              "      <td>Y</td>\n",
              "      <td>780</td>\n",
              "      <td>1 Year</td>\n",
              "      <td>https://www.kijiji.ca/v-apartments-condos/corn...</td>\n",
              "      <td>5/18/2022 12:34</td>\n",
              "    </tr>\n",
              "    <tr>\n",
              "      <th>2</th>\n",
              "      <td>3501005</td>\n",
              "      <td>South Glengarry</td>\n",
              "      <td>45.146672</td>\n",
              "      <td>-74.579565</td>\n",
              "      <td>1609020142</td>\n",
              "      <td>Beautiful Country House near Williamstown - $2...</td>\n",
              "      <td>House</td>\n",
              "      <td>$2,700</td>\n",
              "      <td>Williamstown, ON K0C 2J0</td>\n",
              "      <td>Bedrooms: 3</td>\n",
              "      <td>Bathrooms: 2.5</td>\n",
              "      <td>N</td>\n",
              "      <td>Y</td>\n",
              "      <td>Y</td>\n",
              "      <td>2,200</td>\n",
              "      <td>1 Year</td>\n",
              "      <td>https://www.kijiji.ca/v-apartments-condos/corn...</td>\n",
              "      <td>5/21/2022 21:51</td>\n",
              "    </tr>\n",
              "    <tr>\n",
              "      <th>3</th>\n",
              "      <td>3501005</td>\n",
              "      <td>South Glengarry</td>\n",
              "      <td>45.143726</td>\n",
              "      <td>-74.502708</td>\n",
              "      <td>1617264438</td>\n",
              "      <td>6686 Lawrence st, South Glengarry K6h 5r5</td>\n",
              "      <td>House</td>\n",
              "      <td>$1,200</td>\n",
              "      <td>6686 Lawrence St, Cornwall, South Glengarry, ON</td>\n",
              "      <td>Bedrooms: 2</td>\n",
              "      <td>Bathrooms: 1.5</td>\n",
              "      <td>N</td>\n",
              "      <td>N</td>\n",
              "      <td>Y</td>\n",
              "      <td>900</td>\n",
              "      <td>1 Year</td>\n",
              "      <td>https://www.kijiji.ca/v-apartments-condos/corn...</td>\n",
              "      <td>5/16/2022 15:41</td>\n",
              "    </tr>\n",
              "    <tr>\n",
              "      <th>4</th>\n",
              "      <td>3501005</td>\n",
              "      <td>South Glengarry</td>\n",
              "      <td>45.068973</td>\n",
              "      <td>-74.542873</td>\n",
              "      <td>1617233473</td>\n",
              "      <td>Water Front House for Rent Long Term</td>\n",
              "      <td>House</td>\n",
              "      <td>$4,000</td>\n",
              "      <td>19414 Malibu Ln, Summerstown, ON K0C 2E0, Canada</td>\n",
              "      <td>Bedrooms: 2 + Den</td>\n",
              "      <td>Bathrooms: 3</td>\n",
              "      <td>N</td>\n",
              "      <td>Y</td>\n",
              "      <td>Y</td>\n",
              "      <td>1,400</td>\n",
              "      <td>1 Year</td>\n",
              "      <td>https://www.kijiji.ca/v-apartments-condos/corn...</td>\n",
              "      <td>5/16/2022 11:33</td>\n",
              "    </tr>\n",
              "  </tbody>\n",
              "</table>\n",
              "</div>\n",
              "    <div class=\"colab-df-buttons\">\n",
              "\n",
              "  <div class=\"colab-df-container\">\n",
              "    <button class=\"colab-df-convert\" onclick=\"convertToInteractive('df-96b666ef-1b33-446b-84e2-32d37c642fe7')\"\n",
              "            title=\"Convert this dataframe to an interactive table.\"\n",
              "            style=\"display:none;\">\n",
              "\n",
              "  <svg xmlns=\"http://www.w3.org/2000/svg\" height=\"24px\" viewBox=\"0 -960 960 960\">\n",
              "    <path d=\"M120-120v-720h720v720H120Zm60-500h600v-160H180v160Zm220 220h160v-160H400v160Zm0 220h160v-160H400v160ZM180-400h160v-160H180v160Zm440 0h160v-160H620v160ZM180-180h160v-160H180v160Zm440 0h160v-160H620v160Z\"/>\n",
              "  </svg>\n",
              "    </button>\n",
              "\n",
              "  <style>\n",
              "    .colab-df-container {\n",
              "      display:flex;\n",
              "      gap: 12px;\n",
              "    }\n",
              "\n",
              "    .colab-df-convert {\n",
              "      background-color: #E8F0FE;\n",
              "      border: none;\n",
              "      border-radius: 50%;\n",
              "      cursor: pointer;\n",
              "      display: none;\n",
              "      fill: #1967D2;\n",
              "      height: 32px;\n",
              "      padding: 0 0 0 0;\n",
              "      width: 32px;\n",
              "    }\n",
              "\n",
              "    .colab-df-convert:hover {\n",
              "      background-color: #E2EBFA;\n",
              "      box-shadow: 0px 1px 2px rgba(60, 64, 67, 0.3), 0px 1px 3px 1px rgba(60, 64, 67, 0.15);\n",
              "      fill: #174EA6;\n",
              "    }\n",
              "\n",
              "    .colab-df-buttons div {\n",
              "      margin-bottom: 4px;\n",
              "    }\n",
              "\n",
              "    [theme=dark] .colab-df-convert {\n",
              "      background-color: #3B4455;\n",
              "      fill: #D2E3FC;\n",
              "    }\n",
              "\n",
              "    [theme=dark] .colab-df-convert:hover {\n",
              "      background-color: #434B5C;\n",
              "      box-shadow: 0px 1px 3px 1px rgba(0, 0, 0, 0.15);\n",
              "      filter: drop-shadow(0px 1px 2px rgba(0, 0, 0, 0.3));\n",
              "      fill: #FFFFFF;\n",
              "    }\n",
              "  </style>\n",
              "\n",
              "    <script>\n",
              "      const buttonEl =\n",
              "        document.querySelector('#df-96b666ef-1b33-446b-84e2-32d37c642fe7 button.colab-df-convert');\n",
              "      buttonEl.style.display =\n",
              "        google.colab.kernel.accessAllowed ? 'block' : 'none';\n",
              "\n",
              "      async function convertToInteractive(key) {\n",
              "        const element = document.querySelector('#df-96b666ef-1b33-446b-84e2-32d37c642fe7');\n",
              "        const dataTable =\n",
              "          await google.colab.kernel.invokeFunction('convertToInteractive',\n",
              "                                                    [key], {});\n",
              "        if (!dataTable) return;\n",
              "\n",
              "        const docLinkHtml = 'Like what you see? Visit the ' +\n",
              "          '<a target=\"_blank\" href=https://colab.research.google.com/notebooks/data_table.ipynb>data table notebook</a>'\n",
              "          + ' to learn more about interactive tables.';\n",
              "        element.innerHTML = '';\n",
              "        dataTable['output_type'] = 'display_data';\n",
              "        await google.colab.output.renderOutput(dataTable, element);\n",
              "        const docLink = document.createElement('div');\n",
              "        docLink.innerHTML = docLinkHtml;\n",
              "        element.appendChild(docLink);\n",
              "      }\n",
              "    </script>\n",
              "  </div>\n",
              "\n",
              "\n",
              "<div id=\"df-e93fcb57-8ca4-4bef-b3c9-2355c9551962\">\n",
              "  <button class=\"colab-df-quickchart\" onclick=\"quickchart('df-e93fcb57-8ca4-4bef-b3c9-2355c9551962')\"\n",
              "            title=\"Suggest charts\"\n",
              "            style=\"display:none;\">\n",
              "\n",
              "<svg xmlns=\"http://www.w3.org/2000/svg\" height=\"24px\"viewBox=\"0 0 24 24\"\n",
              "     width=\"24px\">\n",
              "    <g>\n",
              "        <path d=\"M19 3H5c-1.1 0-2 .9-2 2v14c0 1.1.9 2 2 2h14c1.1 0 2-.9 2-2V5c0-1.1-.9-2-2-2zM9 17H7v-7h2v7zm4 0h-2V7h2v10zm4 0h-2v-4h2v4z\"/>\n",
              "    </g>\n",
              "</svg>\n",
              "  </button>\n",
              "\n",
              "<style>\n",
              "  .colab-df-quickchart {\n",
              "      --bg-color: #E8F0FE;\n",
              "      --fill-color: #1967D2;\n",
              "      --hover-bg-color: #E2EBFA;\n",
              "      --hover-fill-color: #174EA6;\n",
              "      --disabled-fill-color: #AAA;\n",
              "      --disabled-bg-color: #DDD;\n",
              "  }\n",
              "\n",
              "  [theme=dark] .colab-df-quickchart {\n",
              "      --bg-color: #3B4455;\n",
              "      --fill-color: #D2E3FC;\n",
              "      --hover-bg-color: #434B5C;\n",
              "      --hover-fill-color: #FFFFFF;\n",
              "      --disabled-bg-color: #3B4455;\n",
              "      --disabled-fill-color: #666;\n",
              "  }\n",
              "\n",
              "  .colab-df-quickchart {\n",
              "    background-color: var(--bg-color);\n",
              "    border: none;\n",
              "    border-radius: 50%;\n",
              "    cursor: pointer;\n",
              "    display: none;\n",
              "    fill: var(--fill-color);\n",
              "    height: 32px;\n",
              "    padding: 0;\n",
              "    width: 32px;\n",
              "  }\n",
              "\n",
              "  .colab-df-quickchart:hover {\n",
              "    background-color: var(--hover-bg-color);\n",
              "    box-shadow: 0 1px 2px rgba(60, 64, 67, 0.3), 0 1px 3px 1px rgba(60, 64, 67, 0.15);\n",
              "    fill: var(--button-hover-fill-color);\n",
              "  }\n",
              "\n",
              "  .colab-df-quickchart-complete:disabled,\n",
              "  .colab-df-quickchart-complete:disabled:hover {\n",
              "    background-color: var(--disabled-bg-color);\n",
              "    fill: var(--disabled-fill-color);\n",
              "    box-shadow: none;\n",
              "  }\n",
              "\n",
              "  .colab-df-spinner {\n",
              "    border: 2px solid var(--fill-color);\n",
              "    border-color: transparent;\n",
              "    border-bottom-color: var(--fill-color);\n",
              "    animation:\n",
              "      spin 1s steps(1) infinite;\n",
              "  }\n",
              "\n",
              "  @keyframes spin {\n",
              "    0% {\n",
              "      border-color: transparent;\n",
              "      border-bottom-color: var(--fill-color);\n",
              "      border-left-color: var(--fill-color);\n",
              "    }\n",
              "    20% {\n",
              "      border-color: transparent;\n",
              "      border-left-color: var(--fill-color);\n",
              "      border-top-color: var(--fill-color);\n",
              "    }\n",
              "    30% {\n",
              "      border-color: transparent;\n",
              "      border-left-color: var(--fill-color);\n",
              "      border-top-color: var(--fill-color);\n",
              "      border-right-color: var(--fill-color);\n",
              "    }\n",
              "    40% {\n",
              "      border-color: transparent;\n",
              "      border-right-color: var(--fill-color);\n",
              "      border-top-color: var(--fill-color);\n",
              "    }\n",
              "    60% {\n",
              "      border-color: transparent;\n",
              "      border-right-color: var(--fill-color);\n",
              "    }\n",
              "    80% {\n",
              "      border-color: transparent;\n",
              "      border-right-color: var(--fill-color);\n",
              "      border-bottom-color: var(--fill-color);\n",
              "    }\n",
              "    90% {\n",
              "      border-color: transparent;\n",
              "      border-bottom-color: var(--fill-color);\n",
              "    }\n",
              "  }\n",
              "</style>\n",
              "\n",
              "  <script>\n",
              "    async function quickchart(key) {\n",
              "      const quickchartButtonEl =\n",
              "        document.querySelector('#' + key + ' button');\n",
              "      quickchartButtonEl.disabled = true;  // To prevent multiple clicks.\n",
              "      quickchartButtonEl.classList.add('colab-df-spinner');\n",
              "      try {\n",
              "        const charts = await google.colab.kernel.invokeFunction(\n",
              "            'suggestCharts', [key], {});\n",
              "      } catch (error) {\n",
              "        console.error('Error during call to suggestCharts:', error);\n",
              "      }\n",
              "      quickchartButtonEl.classList.remove('colab-df-spinner');\n",
              "      quickchartButtonEl.classList.add('colab-df-quickchart-complete');\n",
              "    }\n",
              "    (() => {\n",
              "      let quickchartButtonEl =\n",
              "        document.querySelector('#df-e93fcb57-8ca4-4bef-b3c9-2355c9551962 button');\n",
              "      quickchartButtonEl.style.display =\n",
              "        google.colab.kernel.accessAllowed ? 'block' : 'none';\n",
              "    })();\n",
              "  </script>\n",
              "</div>\n",
              "\n",
              "    </div>\n",
              "  </div>\n"
            ],
            "text/plain": [
              "    CSDUID          CSDNAME   Latitude  Longitude        adId  \\\n",
              "0  3501005  South Glengarry  45.256161 -74.595385  1618448386   \n",
              "1  3501005  South Glengarry  45.192003 -74.374604  1617525343   \n",
              "2  3501005  South Glengarry  45.146672 -74.579565  1609020142   \n",
              "3  3501005  South Glengarry  45.143726 -74.502708  1617264438   \n",
              "4  3501005  South Glengarry  45.068973 -74.542873  1617233473   \n",
              "\n",
              "                                               Title       Type   Price  \\\n",
              "0       2 Bedroom Apartment For Rent In Green Valley  Apartment  $1,425   \n",
              "1  Private 2 BDR in-law-suite upstairs. 1Aug.  $1...  Apartment  $1,100   \n",
              "2  Beautiful Country House near Williamstown - $2...      House  $2,700   \n",
              "3          6686 Lawrence st, South Glengarry K6h 5r5      House  $1,200   \n",
              "4               Water Front House for Rent Long Term      House  $4,000   \n",
              "\n",
              "                                           Location           Bedrooms  \\\n",
              "0                          Green Valley, ON K0C 1L0        Bedrooms: 2   \n",
              "1   21882 Old Hwy 2, Bainsville, ON K0C 1E0, Canada        Bedrooms: 2   \n",
              "2                          Williamstown, ON K0C 2J0        Bedrooms: 3   \n",
              "3   6686 Lawrence St, Cornwall, South Glengarry, ON        Bedrooms: 2   \n",
              "4  19414 Malibu Ln, Summerstown, ON K0C 2E0, Canada  Bedrooms: 2 + Den   \n",
              "\n",
              "        Bathrooms Hydro Heat Water   Size Agreement Type  \\\n",
              "0    Bathrooms: 1     N    Y     Y    950         1 Year   \n",
              "1    Bathrooms: 1     N    N     Y    780         1 Year   \n",
              "2  Bathrooms: 2.5     N    Y     Y  2,200         1 Year   \n",
              "3  Bathrooms: 1.5     N    N     Y    900         1 Year   \n",
              "4    Bathrooms: 3     N    Y     Y  1,400         1 Year   \n",
              "\n",
              "                                                 URL      Date Posted  \n",
              "0  https://www.kijiji.ca/v-apartments-condos/corn...   5/25/2022 4:30  \n",
              "1  https://www.kijiji.ca/v-apartments-condos/corn...  5/18/2022 12:34  \n",
              "2  https://www.kijiji.ca/v-apartments-condos/corn...  5/21/2022 21:51  \n",
              "3  https://www.kijiji.ca/v-apartments-condos/corn...  5/16/2022 15:41  \n",
              "4  https://www.kijiji.ca/v-apartments-condos/corn...  5/16/2022 11:33  "
            ]
          },
          "execution_count": 98,
          "metadata": {},
          "output_type": "execute_result"
        }
      ],
      "source": [
        "dash.head()"
      ]
    },
    {
      "cell_type": "code",
      "execution_count": 144,
      "metadata": {
        "id": "NFdZj9cgD0jY"
      },
      "outputs": [],
      "source": [
        "import streamlit as st\n",
        "import streamlit as st\n",
        "import pandas as pd\n",
        "import plotly.express as px\n",
        "import joblib\n",
        "import folium\n",
        "\n",
        "\n",
        "# Load the dataset with a specified encoding\n",
        "data = pd.read_csv('kijiji.csv', encoding='latin1')\n",
        "\n",
        "# Page 1: Dashboard\n",
        "def dashboard():\n",
        "    st.image('Logo.PNG', use_column_width=True)\n",
        "    st.subheader(\"💡 Abstract:\")\n",
        "    inspiration = '''\n",
        "The task is to collect accurate and abundant data for small Canadian communities and derive useful insights to support their local initiatives.\n",
        "    '''\n",
        "    st.write(inspiration)\n",
        "    st.subheader(\"👨🏻‍💻 What our Project Does?\")\n",
        "    what_it_does = '''\n",
        "Throughout this project, we did collecte, cleaned and find usefull insight from the dataset, which is available from kijiji for the smaller community in canada. Followed by Implimenting and deploing Machine learning model to perdict the price of different rental property.\n",
        "'''\n",
        "    st.write(what_it_does)\n",
        "\n",
        "# Page 2: Exploratory Data Analysis (EDA)\n",
        "def exploratory_data_analysis():\n",
        "    st.title(\"Exploratory Data Analysis\")\n",
        "\n",
        "    # Price Distribution\n",
        "    fig = px.histogram(data, x='Price', nbins=20, title='Distribution of Rental Prices')\n",
        "    st.plotly_chart(fig)\n",
        "\n",
        "    # Boxplot for Price by Property Type\n",
        "    fig = px.box(data, x='Type', y='Price', title='Price Distribution by Property Type')\n",
        "    st.plotly_chart(fig)\n",
        "\n",
        "# Page 3: Machine Learning Modeling\n",
        "def machine_learning_modeling():\n",
        "    st.title(\"Kijiji Rental Price Prediction\")\n",
        "    st.write(\"Enter the details of the property to predict its rental price:\")\n",
        "\n",
        "    # Input fields for user to enter data\n",
        "    property_type = st.selectbox(\"Type of Property\", ['Apartment', 'House', 'Condo', 'Townhouse'])\n",
        "    bedrooms = st.slider(\"Number of Bedrooms\", 1, 5, 2)\n",
        "    bathrooms = st.slider(\"Number of Bathrooms\", 1, 3, 1)\n",
        "    size = st.slider(\"Size (sqft)\", 300, 5000, 1000)\n",
        "    unique_locations = data['CSDNAME'].unique()\n",
        "    location = st.selectbox(\"Location\", unique_locations)\n",
        "\n",
        "    if st.button(\"Predict\"):\n",
        "        # Load the trained model including preprocessing\n",
        "        model = joblib.load('rf.pkl')\n",
        "\n",
        "        # Assuming the model_with_preprocessing is a pipeline that ends with your estimator\n",
        "        # Prepare input data as a DataFrame to match the training data structure\n",
        "        input_df = pd.DataFrame({\n",
        "            'Type': [property_type],\n",
        "            'Bedrooms': [bedrooms],\n",
        "            'Bathrooms': [bathrooms],\n",
        "            'Size': [size],\n",
        "            'CSDNAME': [location]\n",
        "        })\n",
        "\n",
        "        # Make prediction\n",
        "        prediction = model.predict(input_df)\n",
        "\n",
        "        # Display the prediction\n",
        "        st.success(f\"Predicted Rental Price: ${prediction[0]:,.2f}\")\n",
        "\n",
        "# Page 4: Community Mapping\n",
        "def community_mapping():\n",
        "    st.title(\"Small Communities Map: Population <10000\")\n",
        "    geodata = pd.read_csv(\"smallcomunity_EDA_65.csv\")\n",
        "\n",
        "    # Optional: Set your Mapbox token (if you want to use Mapbox styles)\n",
        "    # px.set_mapbox_access_token('YOUR_MAPBOX_TOKEN_HERE')\n",
        "\n",
        "    # Create the map using Plotly Express\n",
        "    fig = px.scatter_mapbox(geodata,\n",
        "                            lat='Latitude',\n",
        "                            lon='Longitude',\n",
        "                            color='Population',  # Color points by population, or choose another column\n",
        "                            size='Price',  # Size points by price, or choose another column\n",
        "                            color_continuous_scale=px.colors.cyclical.IceFire,\n",
        "                            size_max=15,\n",
        "                            zoom=10,\n",
        "                            hover_name='Type',  # Display property type when hovering over points\n",
        "                            hover_data={'Price': True, 'Population': True, 'Latitude': False, 'Longitude': False},\n",
        "                            title='Small Communities Map')\n",
        "\n",
        "    fig.update_layout(mapbox_style=\"open-street-map\")  # Use OpenStreetMap style\n",
        "    st.plotly_chart(fig)\n",
        "\n",
        "\n",
        "# Main App Logic\n",
        "def main():\n",
        "    st.sidebar.title(\"Kijiji Community App\")\n",
        "    app_page = st.sidebar.radio(\"Select a Page\", [\"Dashboard\", \"EDA\", \"ML Modeling\", \"Community Mapping\"])\n",
        "\n",
        "    if app_page == \"Dashboard\":\n",
        "        dashboard()\n",
        "    elif app_page == \"EDA\":\n",
        "        exploratory_data_analysis()\n",
        "    elif app_page == \"ML Modeling\":\n",
        "        machine_learning_modeling()\n",
        "    elif app_page == \"Community Mapping\":\n",
        "        community_mapping()\n",
        "\n",
        "if __name__ == \"__main__\":\n",
        "    main()"
      ]
    },
    {
      "cell_type": "code",
      "source": [
        "import streamlit as st\n",
        "import pandas as pd\n",
        "import plotly.express as px\n",
        "\n",
        "# Load the dataset with a specified encoding\n",
        "data = pd.read_csv('kijiji_cleaned.csv', encoding='latin1')\n",
        "\n",
        "# Page 1: Dashboard\n",
        "def dashboard():\n",
        "  st.image('Logo.PNG', use_column_width=True)\n",
        "  st.subheader(\"💡 Abstract:\")\n",
        "  inspiration = '''\n",
        "        This project delves into analyzing the Ontario rental market using machine learning techniques. We cleaned and explored the dataset to uncover trends and factors influencing rental prices. By developing predictive models, we aimed to forecast rental prices and understand market dynamics. Additionally, we attempted to enhance our analysis by integrating population data and focusing on small communities to observe any changes in rental housing. The deployment of these models allows users to access real-time rental price predictions and market insights, facilitating decision-making processes related to renting properties in Ontario.\n",
        "    '''\n",
        "  st.write(inspiration)\n",
        "  st.subheader(\"👨🏻‍💻 What our Project Does?:Exploratory Data Analysis (EDA), and Visualization, ML and deployment.\")\n",
        "  what_it_does = '''\n",
        "    This project is all about understanding the rental market in Ontario, Canada, using computers and math to help us learn. First, we looked at a lot of rental information to find out what affects rental prices. Then, we used what we learned to make predictions about how much it might cost to rent a place in different areas. We also wanted to see if there were any changes in rental housing in small communities when more people lived there. Finally, we made a way for people to use our predictions and insights to help them decide where to rent in Ontario..\n",
        "    '''\n",
        "  st.write(what_it_does)\n",
        "\n",
        "# Page 2: Exploratory Data Analysis (EDA)\n",
        "def exploratory_data_analysis():\n",
        "  st.title(\"Exploratory Data Analysis\")\n",
        "\n",
        "    # Price Distribution\n",
        "  fig = px.histogram(data, x='Price', nbins=20, title='Distribution of Rental Prices')\n",
        "  st.plotly_chart(fig)\n",
        "\n",
        "    # Boxplot for Price by Property Type\n",
        "  fig = px.box(data, x='Type', y='Price', title='Price Distribution by Property Type')\n",
        "  st.plotly_chart(fig)\n",
        "\n",
        "# Page 3: Machine Learning Modeling\n",
        "def machine_learning_modeling():\n",
        "  st.title(\"Kijiji Rental Price Prediction\")\n",
        "  st.write(\"Enter the details of the property to predict its rental price:\")\n",
        "\n",
        "    # Input fields for user to enter data\n",
        "  property_type = st.selectbox(\"Type of Property\", ['Apartment', 'House', 'Condo', 'Townhouse'])\n",
        "  bedrooms = st.slider(\"Number of Bedrooms\", 1, 5, 2)\n",
        "  bathrooms = st.slider(\"Number of Bathrooms\", 1, 3, 1)\n",
        "  size = st.slider(\"Size (sqft)\", 300, 5000, 1000)\n",
        "  unique_locations = data['CSDNAME'].unique()\n",
        "  location = st.selectbox(\"Location\", unique_locations)\n",
        "\n",
        "  if st.button(\"Predict\"):\n",
        "        # Load the trained model including preprocessing\n",
        "      model = joblib.load('gradient_boost_regressor_model.pkl')\n",
        "\n",
        "        # Assuming the model_with_preprocessing is a pipeline that ends with your estimator\n",
        "        # Prepare input data as a DataFrame to match the training data structure\n",
        "      input_df = pd.DataFrame({\n",
        "            'Type': [property_type],\n",
        "            'Bedrooms': [bedrooms],\n",
        "            'Bathrooms': [bathrooms],\n",
        "            'Size': [size],\n",
        "            'CSDNAME': [location]\n",
        "        })\n",
        "\n",
        "        # Make prediction\n",
        "      prediction = model.predict(input_df)\n",
        "\n",
        "        # Display the prediction\n",
        "      st.success(f\"Predicted Rental Price: ${prediction[0]:,.2f}\")\n",
        "\n",
        "# Page 4: Community Mapping\n",
        "def community_mapping():\n",
        "    st.title(\"Communities Map\")\n",
        "    geodata = pd.read_csv(\".csv\")\n",
        "\n",
        "    # Optional: Set your Mapbox token (if you want to use Mapbox styles)\n",
        "    # px.set_mapbox_access_token('YOUR_MAPBOX_TOKEN_HERE')\n",
        "\n",
        "    # Create the map using Plotly Express\n",
        "    fig = px.scatter_mapbox(geodata,\n",
        "                            lat='Latitude',\n",
        "                            lon='Longitude',\n",
        "                            color='Population',  # Color points by population, or choose another column\n",
        "                            size='Price',  # Size points by price, or choose another column\n",
        "                            color_continuous_scale=px.colors.cyclical.IceFire,\n",
        "                            size_max=15,\n",
        "                            zoom=10,\n",
        "                            hover_name='Type',  # Display property type when hovering over points\n",
        "                            hover_data={'Price': True, 'Population': True, 'Latitude': False, 'Longitude': False},\n",
        "                            title='Small Communities Map')\n",
        "\n",
        "    fig.update_layout(mapbox_style=\"open-street-map\")  # Use OpenStreetMap style\n",
        "    st.plotly_chart(fig)\n",
        "\n",
        "\n",
        "# Main App Logic\n",
        "def main():\n",
        "    st.sidebar.title(\"Kijiji Community App\")\n",
        "    app_page = st.sidebar.radio(\"Select a Page\", [\"Dashboard\", \"EDA\", \"ML Modeling\", \"Community Mapping\"])\n",
        "\n",
        "    if app_page == \"Dashboard\":\n",
        "        dashboard()\n",
        "    elif app_page == \"EDA\":\n",
        "        exploratory_data_analysis()\n",
        "    elif app_page == \"ML Modeling\":\n",
        "        machine_learning_modeling()\n",
        "    elif app_page == \"Community Mapping\":\n",
        "        community_mapping()\n",
        "\n",
        "if __name__ == \"__main__\":\n",
        "    main()"
      ],
      "metadata": {
        "id": "UYJY10CcfVWK"
      },
      "execution_count": 137,
      "outputs": []
    },
    {
      "cell_type": "code",
      "execution_count": 145,
      "metadata": {
        "colab": {
          "base_uri": "https://localhost:8080/"
        },
        "id": "cFhSrevMTz5m",
        "outputId": "53cfe36c-c296-4966-d461-465d316f7cfe"
      },
      "outputs": [
        {
          "output_type": "stream",
          "name": "stdout",
          "text": [
            "\u001b[K\u001b[?25h\u001b[37;40mnpm\u001b[0m \u001b[0m\u001b[30;43mWARN\u001b[0m \u001b[0m\u001b[35msaveError\u001b[0m ENOENT: no such file or directory, open '/content/package.json'\n",
            "\u001b[0m\u001b[37;40mnpm\u001b[0m \u001b[0m\u001b[30;43mWARN\u001b[0m \u001b[0m\u001b[35menoent\u001b[0m ENOENT: no such file or directory, open '/content/package.json'\n",
            "\u001b[0m\u001b[37;40mnpm\u001b[0m \u001b[0m\u001b[30;43mWARN\u001b[0m\u001b[35m\u001b[0m content No description\n",
            "\u001b[0m\u001b[37;40mnpm\u001b[0m \u001b[0m\u001b[30;43mWARN\u001b[0m\u001b[35m\u001b[0m content No repository field.\n",
            "\u001b[0m\u001b[37;40mnpm\u001b[0m \u001b[0m\u001b[30;43mWARN\u001b[0m\u001b[35m\u001b[0m content No README data\n",
            "\u001b[0m\u001b[37;40mnpm\u001b[0m \u001b[0m\u001b[30;43mWARN\u001b[0m\u001b[35m\u001b[0m content No license field.\n",
            "\u001b[0m\n",
            "\u001b[K\u001b[?25h+ localtunnel@2.0.2\n",
            "updated 1 package and audited 36 packages in 0.502s\n",
            "\n",
            "3 packages are looking for funding\n",
            "  run `npm fund` for details\n",
            "\n",
            "found 2 \u001b[93mmoderate\u001b[0m severity vulnerabilities\n",
            "  run `npm audit fix` to fix them, or `npm audit` for details\n"
          ]
        }
      ],
      "source": [
        "!npm install localtunnel"
      ]
    },
    {
      "cell_type": "code",
      "execution_count": 146,
      "metadata": {
        "colab": {
          "base_uri": "https://localhost:8080/"
        },
        "id": "5nZDYpyvT0GT",
        "outputId": "58cc797e-24d4-45c6-890b-e3aec0f2b3bd"
      },
      "outputs": [
        {
          "output_type": "stream",
          "name": "stdout",
          "text": [
            "34.48.61.70\n"
          ]
        }
      ],
      "source": [
        "!streamlit run /content/app.py &>/content/logs.txt & curl ipv4.icanhazip.com"
      ]
    },
    {
      "cell_type": "code",
      "execution_count": null,
      "metadata": {
        "colab": {
          "base_uri": "https://localhost:8080/"
        },
        "id": "1uXS84vvT42J",
        "outputId": "bb23cb39-32bf-421f-cbe5-a297232f6214"
      },
      "outputs": [
        {
          "output_type": "stream",
          "name": "stdout",
          "text": [
            "\u001b[K\u001b[?25hnpx: installed 22 in 1.898s\n",
            "your url is: https://funny-results-sniff.loca.lt\n"
          ]
        }
      ],
      "source": [
        "!npx localtunnel --port 8501"
      ]
    }
  ],
  "metadata": {
    "colab": {
      "provenance": []
    },
    "kernelspec": {
      "display_name": "Python 3",
      "name": "python3"
    },
    "language_info": {
      "name": "python"
    }
  },
  "nbformat": 4,
  "nbformat_minor": 0
}